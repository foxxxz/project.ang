{
 "cells": [
  {
   "cell_type": "markdown",
   "metadata": {},
   "source": [
    "# import packages"
   ]
  },
  {
   "cell_type": "code",
   "execution_count": 1,
   "metadata": {},
   "outputs": [
    {
     "name": "stderr",
     "output_type": "stream",
     "text": [
      "C:\\Anaconda2\\envs\\py36\\lib\\site-packages\\gensim\\utils.py:1197: UserWarning: detected Windows; aliasing chunkize to chunkize_serial\n",
      "  warnings.warn(\"detected Windows; aliasing chunkize to chunkize_serial\")\n"
     ]
    }
   ],
   "source": [
    "import pandas as pd\n",
    "import dask.dataframe as dd\n",
    "import numpy as np\n",
    "import json\n",
    "from time import time\n",
    "\n",
    "from collections import Counter\n",
    "\n",
    "from konlpy.corpus import kolaw\n",
    "from konlpy.tag import Hannanum\n",
    "from konlpy.utils import concordance, pprint\n",
    "import matplotlib.pyplot as plt\n",
    "from matplotlib import pyplot\n",
    "\n",
    "from konlpy.tag import *\n",
    "from gensim.models.word2vec import Word2Vec\n",
    "\n",
    "km = Komoran()\n",
    "tw = Twitter()\n",
    "han = Hannanum()\n",
    "kkma = Kkma()\n",
    "\n",
    "def draw_zipf(count_list, filename, color='blue', marker='o'):\n",
    "    sorted_list = sorted(count_list, reverse=True)\n",
    "    plt.plot(sorted_list, color=color, marker=marker)\n",
    "    plt.xscale('log')\n",
    "    plt.yscale('log')\n",
    "    plt.show()\n",
    "    #pyplot.savefig(filename)\n"
   ]
  },
  {
   "cell_type": "markdown",
   "metadata": {},
   "source": [
    "# 나무위키"
   ]
  },
  {
   "cell_type": "code",
   "execution_count": 2,
   "metadata": {
    "collapsed": true
   },
   "outputs": [],
   "source": [
    "with open('C:/Users/boogi/Downloads/namuwiki_20180326.json') as f:\n",
    "    data = json.load(f)"
   ]
  },
  {
   "cell_type": "code",
   "execution_count": 3,
   "metadata": {
    "scrolled": true
   },
   "outputs": [
    {
     "data": {
      "text/plain": [
       "{'contributors': ['namubot', 'R:hoon12560'],\n",
       " 'namespace': '0',\n",
       " 'text': '#redirect 느낌표\\n',\n",
       " 'title': '!'}"
      ]
     },
     "execution_count": 3,
     "metadata": {},
     "output_type": "execute_result"
    }
   ],
   "source": [
    "data[0]"
   ]
  },
  {
   "cell_type": "code",
   "execution_count": 4,
   "metadata": {},
   "outputs": [
    {
     "data": {
      "text/plain": [
       "\"\\nimport dask.bag as db\\njs = db.read_text('C:/Users/boogi/Downloads/namuwiki_1.json').map(json.loads)\\njs.take(1)\\ndel js\\n\""
      ]
     },
     "execution_count": 4,
     "metadata": {},
     "output_type": "execute_result"
    }
   ],
   "source": [
    "'''\n",
    "import dask.bag as db\n",
    "js = db.read_text('C:/Users/boogi/Downloads/namuwiki_1.json').map(json.loads)\n",
    "js.take(1)\n",
    "del js\n",
    "'''"
   ]
  },
  {
   "cell_type": "code",
   "execution_count": 5,
   "metadata": {},
   "outputs": [
    {
     "data": {
      "text/plain": [
       "565985"
      ]
     },
     "execution_count": 5,
     "metadata": {},
     "output_type": "execute_result"
    }
   ],
   "source": [
    "len(data)"
   ]
  },
  {
   "cell_type": "code",
   "execution_count": 3,
   "metadata": {
    "collapsed": true,
    "scrolled": true
   },
   "outputs": [],
   "source": [
    "keys = ['카지노', '호텔', '도박장']\n",
    "minimal = ''\n",
    "for i in range(len(data)):\n",
    "    txt = '%s' % data[i]\n",
    "    if any([True if key in txt else False for key in keys]):\n",
    "        for item in txt.split('\\\\n'):\n",
    "            if any([True if key in item else False for key in keys]):\n",
    "                for jtem in item.split('.'):\n",
    "                    if any([True if key in jtem else False for key in keys]):\n",
    "                        minimal += jtem + '. '"
   ]
  },
  {
   "cell_type": "code",
   "execution_count": 4,
   "metadata": {},
   "outputs": [
    {
     "data": {
      "text/plain": [
       "25508"
      ]
     },
     "execution_count": 4,
     "metadata": {},
     "output_type": "execute_result"
    }
   ],
   "source": [
    "len(minimal.split('.'))"
   ]
  },
  {
   "cell_type": "code",
   "execution_count": 5,
   "metadata": {
    "collapsed": true
   },
   "outputs": [],
   "source": [
    "del data"
   ]
  },
  {
   "cell_type": "code",
   "execution_count": 6,
   "metadata": {
    "collapsed": true
   },
   "outputs": [],
   "source": [
    "minimal = minimal.replace(']', '').replace('[', '').replace('*', '').replace('|', '').replace(\"\\\\'\", \"\").replace('~', '')"
   ]
  },
  {
   "cell_type": "markdown",
   "metadata": {},
   "source": [
    "# RNN test"
   ]
  },
  {
   "cell_type": "code",
   "execution_count": 7,
   "metadata": {},
   "outputs": [
    {
     "name": "stderr",
     "output_type": "stream",
     "text": [
      "Using TensorFlow backend.\n"
     ]
    }
   ],
   "source": [
    "from keras.models import Sequential\n",
    "from keras.layers import Dense, Embedding, LSTM, Dropout\n",
    "from keras.optimizers import *\n",
    "from keras.utils import np_utils\n",
    "from keras.preprocessing import sequence\n",
    "from keras.preprocessing.text import Tokenizer\n",
    "\n",
    "from nltk.tokenize import sent_tokenize\n",
    "#from konlpy.corpus import kolaw\n",
    "#from konlpy.tag import Twitter"
   ]
  },
  {
   "cell_type": "code",
   "execution_count": 8,
   "metadata": {
    "collapsed": true
   },
   "outputs": [],
   "source": [
    "doc0 = [\" \".join([\"\".join(w) for w, t in tw.pos(s) \n",
    "                  if (t not in [\"Foreign\"])]) for s in sent_tokenize(minimal) if (s.count(' ') > 4) & (s.count(' ') < 13)]\n",
    "doc0 = [item for item in doc0 if item]"
   ]
  },
  {
   "cell_type": "code",
   "execution_count": 9,
   "metadata": {},
   "outputs": [
    {
     "data": {
      "text/plain": [
       "9516"
      ]
     },
     "execution_count": 9,
     "metadata": {},
     "output_type": "execute_result"
    }
   ],
   "source": [
    "len(doc0)"
   ]
  },
  {
   "cell_type": "code",
   "execution_count": 34,
   "metadata": {
    "collapsed": true
   },
   "outputs": [],
   "source": [
    "doc0 = [\" \".join([\"\".join(w) for w, t in tw.pos(s) \n",
    "                  if (t not in [\"Foreign\"])]) for s in sent_tokenize(minimal)]"
   ]
  },
  {
   "cell_type": "code",
   "execution_count": 35,
   "metadata": {},
   "outputs": [
    {
     "data": {
      "text/plain": [
       "26296"
      ]
     },
     "execution_count": 35,
     "metadata": {},
     "output_type": "execute_result"
    }
   ],
   "source": [
    "len(doc0)"
   ]
  },
  {
   "cell_type": "code",
   "execution_count": 11,
   "metadata": {
    "collapsed": true
   },
   "outputs": [],
   "source": [
    "'''doc0 = [\" \".join([\"\".join(w) for w, t in tw.pos(s) \n",
    "                  if t not in ['Number',\"Foreign\"]]) for s in sent_tokenize(minimal)]'''"
   ]
  },
  {
   "cell_type": "code",
   "execution_count": 10,
   "metadata": {
    "collapsed": true
   },
   "outputs": [],
   "source": [
    "tokenizer = Tokenizer()\n",
    "doc_temp = doc0[:5000]\n",
    "tokenizer.fit_on_texts(doc_temp)\n",
    "doc = [l for l in tokenizer.texts_to_sequences(doc_temp) if len(l) > 1]\n",
    "\n",
    "maxlen = max([len(x) - 1 for x in doc])\n",
    "vocab_size = len(tokenizer.word_index) + 1"
   ]
  },
  {
   "cell_type": "code",
   "execution_count": 11,
   "metadata": {},
   "outputs": [
    {
     "data": {
      "text/plain": [
       "(52, 13541)"
      ]
     },
     "execution_count": 11,
     "metadata": {},
     "output_type": "execute_result"
    }
   ],
   "source": [
    "maxlen, vocab_size"
   ]
  },
  {
   "cell_type": "code",
   "execution_count": 12,
   "metadata": {
    "collapsed": true
   },
   "outputs": [],
   "source": [
    "def generate_data(X, maxlen, vocab_size):\n",
    "    for sentence in X: \n",
    "        inputs = []\n",
    "        targets = []\n",
    "        for i in range(1, len(sentence)):\n",
    "            inputs.append(sentence[0:i])\n",
    "            targets.append(sentence[i])\n",
    "        y = np_utils.to_categorical(targets, vocab_size)\n",
    "        inputs_sequence = sequence.pad_sequences(inputs, maxlen=maxlen)\n",
    "        yield (inputs_sequence, y)"
   ]
  },
  {
   "cell_type": "code",
   "execution_count": 13,
   "metadata": {},
   "outputs": [
    {
     "name": "stdout",
     "output_type": "stream",
     "text": [
      "(78151, 52) (78151, 13541)\n"
     ]
    }
   ],
   "source": [
    "X = []\n",
    "Y = []\n",
    "for x, y in generate_data(doc, maxlen, vocab_size):\n",
    "    X.append(x)\n",
    "    Y.append(y)\n",
    "\n",
    "X = np.concatenate(X)\n",
    "Y = np.concatenate(Y)\n",
    "\n",
    "print(X.shape, Y.shape)"
   ]
  },
  {
   "cell_type": "code",
   "execution_count": 14,
   "metadata": {
    "collapsed": true
   },
   "outputs": [],
   "source": [
    "model = Sequential()\n",
    "model.add(Embedding(vocab_size, 100, input_length=maxlen))\n",
    "model.add(LSTM(100, return_sequences=False))\n",
    "model.add(Dropout(0.5))\n",
    "model.add(Dense(vocab_size, activation='softmax'))"
   ]
  },
  {
   "cell_type": "code",
   "execution_count": 15,
   "metadata": {},
   "outputs": [
    {
     "name": "stdout",
     "output_type": "stream",
     "text": [
      "_________________________________________________________________\n",
      "Layer (type)                 Output Shape              Param #   \n",
      "=================================================================\n",
      "embedding_1 (Embedding)      (None, 52, 100)           1354100   \n",
      "_________________________________________________________________\n",
      "lstm_1 (LSTM)                (None, 100)               80400     \n",
      "_________________________________________________________________\n",
      "dropout_1 (Dropout)          (None, 100)               0         \n",
      "_________________________________________________________________\n",
      "dense_1 (Dense)              (None, 13541)             1367641   \n",
      "=================================================================\n",
      "Total params: 2,802,141\n",
      "Trainable params: 2,802,141\n",
      "Non-trainable params: 0\n",
      "_________________________________________________________________\n"
     ]
    }
   ],
   "source": [
    "model.summary()"
   ]
  },
  {
   "cell_type": "code",
   "execution_count": 16,
   "metadata": {
    "collapsed": true
   },
   "outputs": [],
   "source": [
    "model.compile(loss='categorical_crossentropy', optimizer=RMSprop(), metrics=[\"accuracy\"])"
   ]
  },
  {
   "cell_type": "code",
   "execution_count": 20,
   "metadata": {
    "scrolled": true
   },
   "outputs": [
    {
     "name": "stdout",
     "output_type": "stream",
     "text": [
      "Epoch 1/500\n",
      "19s - loss: 3.7149 - acc: 0.5484\n",
      "Epoch 2/500\n",
      "19s - loss: 3.7091 - acc: 0.5494\n",
      "Epoch 3/500\n",
      "19s - loss: 3.7067 - acc: 0.5486\n",
      "Epoch 4/500\n",
      "19s - loss: 3.7053 - acc: 0.5503\n",
      "Epoch 5/500\n",
      "18s - loss: 3.7087 - acc: 0.5483\n",
      "Epoch 6/500\n",
      "18s - loss: 3.7080 - acc: 0.5475\n",
      "Epoch 7/500\n",
      "19s - loss: 3.7010 - acc: 0.5492\n",
      "Epoch 8/500\n",
      "19s - loss: 3.6993 - acc: 0.5499\n",
      "Epoch 9/500\n",
      "19s - loss: 3.7070 - acc: 0.5485\n",
      "Epoch 10/500\n",
      "19s - loss: 3.6980 - acc: 0.5510\n",
      "Epoch 11/500\n",
      "19s - loss: 3.6959 - acc: 0.5507\n",
      "Epoch 12/500\n",
      "19s - loss: 3.6946 - acc: 0.5511\n",
      "Epoch 13/500\n",
      "19s - loss: 3.6952 - acc: 0.5512\n",
      "Epoch 14/500\n",
      "19s - loss: 3.6913 - acc: 0.5506\n",
      "Epoch 15/500\n",
      "19s - loss: 3.6934 - acc: 0.5524\n",
      "Epoch 16/500\n",
      "19s - loss: 3.6884 - acc: 0.5521\n",
      "Epoch 17/500\n",
      "19s - loss: 3.6895 - acc: 0.5525\n",
      "Epoch 18/500\n",
      "19s - loss: 3.6886 - acc: 0.5516\n",
      "Epoch 19/500\n",
      "19s - loss: 3.6891 - acc: 0.5521\n",
      "Epoch 20/500\n",
      "19s - loss: 3.6857 - acc: 0.5518\n",
      "Epoch 21/500\n",
      "18s - loss: 3.6840 - acc: 0.5529\n",
      "Epoch 22/500\n",
      "19s - loss: 3.6847 - acc: 0.5534\n",
      "Epoch 23/500\n",
      "18s - loss: 3.6817 - acc: 0.5529\n",
      "Epoch 24/500\n",
      "18s - loss: 3.6820 - acc: 0.5528\n",
      "Epoch 25/500\n",
      "19s - loss: 3.6786 - acc: 0.5531\n",
      "Epoch 26/500\n",
      "18s - loss: 3.6813 - acc: 0.5531\n",
      "Epoch 27/500\n",
      "18s - loss: 3.6777 - acc: 0.5536\n",
      "Epoch 28/500\n",
      "18s - loss: 3.6752 - acc: 0.5546\n",
      "Epoch 29/500\n",
      "19s - loss: 3.6732 - acc: 0.5539\n",
      "Epoch 30/500\n",
      "19s - loss: 3.6720 - acc: 0.5540\n",
      "Epoch 31/500\n",
      "19s - loss: 3.6754 - acc: 0.5539\n",
      "Epoch 32/500\n",
      "19s - loss: 3.6702 - acc: 0.5543\n",
      "Epoch 33/500\n",
      "18s - loss: 3.6707 - acc: 0.5532\n",
      "Epoch 34/500\n",
      "19s - loss: 3.6695 - acc: 0.5553\n",
      "Epoch 35/500\n",
      "19s - loss: 3.6670 - acc: 0.5539\n",
      "Epoch 36/500\n",
      "19s - loss: 3.6645 - acc: 0.5560\n",
      "Epoch 37/500\n",
      "19s - loss: 3.6648 - acc: 0.5563\n",
      "Epoch 38/500\n",
      "19s - loss: 3.6616 - acc: 0.5556\n",
      "Epoch 39/500\n",
      "19s - loss: 3.6620 - acc: 0.5556\n",
      "Epoch 40/500\n",
      "19s - loss: 3.6586 - acc: 0.5575\n",
      "Epoch 41/500\n",
      "19s - loss: 3.6582 - acc: 0.5576\n",
      "Epoch 42/500\n",
      "19s - loss: 3.6614 - acc: 0.5554\n",
      "Epoch 43/500\n",
      "19s - loss: 3.6578 - acc: 0.5553\n",
      "Epoch 44/500\n",
      "19s - loss: 3.6602 - acc: 0.5557\n",
      "Epoch 45/500\n",
      "19s - loss: 3.6529 - acc: 0.5586\n",
      "Epoch 46/500\n",
      "19s - loss: 3.6497 - acc: 0.5587\n",
      "Epoch 47/500\n",
      "19s - loss: 3.6491 - acc: 0.5578\n",
      "Epoch 48/500\n",
      "19s - loss: 3.6523 - acc: 0.5570\n",
      "Epoch 49/500\n",
      "19s - loss: 3.6487 - acc: 0.5582\n",
      "Epoch 50/500\n",
      "19s - loss: 3.6482 - acc: 0.5575\n",
      "Epoch 51/500\n",
      "19s - loss: 3.6477 - acc: 0.5573\n",
      "Epoch 52/500\n",
      "19s - loss: 3.6459 - acc: 0.5583\n",
      "Epoch 53/500\n",
      "19s - loss: 3.6435 - acc: 0.5591\n",
      "Epoch 54/500\n",
      "19s - loss: 3.6431 - acc: 0.5580\n",
      "Epoch 55/500\n",
      "19s - loss: 3.6417 - acc: 0.5594\n",
      "Epoch 56/500\n",
      "19s - loss: 3.6450 - acc: 0.5587\n",
      "Epoch 57/500\n",
      "19s - loss: 3.6383 - acc: 0.5595\n",
      "Epoch 58/500\n",
      "18s - loss: 3.6374 - acc: 0.5608\n",
      "Epoch 59/500\n",
      "19s - loss: 3.6413 - acc: 0.5588\n",
      "Epoch 60/500\n",
      "19s - loss: 3.6390 - acc: 0.5591\n",
      "Epoch 61/500\n",
      "19s - loss: 3.6374 - acc: 0.5599\n",
      "Epoch 62/500\n",
      "19s - loss: 3.6370 - acc: 0.5602\n",
      "Epoch 63/500\n",
      "18s - loss: 3.6349 - acc: 0.5594\n",
      "Epoch 64/500\n",
      "19s - loss: 3.6343 - acc: 0.5615\n",
      "Epoch 65/500\n",
      "19s - loss: 3.6346 - acc: 0.5605\n",
      "Epoch 66/500\n",
      "18s - loss: 3.6338 - acc: 0.5606\n",
      "Epoch 67/500\n",
      "18s - loss: 3.6336 - acc: 0.5599\n",
      "Epoch 68/500\n",
      "19s - loss: 3.6294 - acc: 0.5602\n",
      "Epoch 69/500\n",
      "19s - loss: 3.6324 - acc: 0.5602\n",
      "Epoch 70/500\n",
      "19s - loss: 3.6287 - acc: 0.5619\n",
      "Epoch 71/500\n",
      "19s - loss: 3.6275 - acc: 0.5621\n",
      "Epoch 72/500\n",
      "19s - loss: 3.6237 - acc: 0.5627\n",
      "Epoch 73/500\n",
      "19s - loss: 3.6230 - acc: 0.5627\n",
      "Epoch 74/500\n",
      "19s - loss: 3.6227 - acc: 0.5625\n",
      "Epoch 75/500\n",
      "19s - loss: 3.6249 - acc: 0.5614\n",
      "Epoch 76/500\n",
      "19s - loss: 3.6248 - acc: 0.5608\n",
      "Epoch 77/500\n",
      "19s - loss: 3.6245 - acc: 0.5616\n",
      "Epoch 78/500\n",
      "19s - loss: 3.6189 - acc: 0.5641\n",
      "Epoch 79/500\n",
      "18s - loss: 3.6137 - acc: 0.5640\n",
      "Epoch 80/500\n",
      "19s - loss: 3.6180 - acc: 0.5624\n",
      "Epoch 81/500\n",
      "19s - loss: 3.6126 - acc: 0.5640\n",
      "Epoch 82/500\n",
      "19s - loss: 3.6175 - acc: 0.5640\n",
      "Epoch 83/500\n",
      "19s - loss: 3.6166 - acc: 0.5626\n",
      "Epoch 84/500\n",
      "19s - loss: 3.6148 - acc: 0.5639\n",
      "Epoch 85/500\n",
      "19s - loss: 3.6109 - acc: 0.5642\n",
      "Epoch 86/500\n",
      "19s - loss: 3.6150 - acc: 0.5613\n",
      "Epoch 87/500\n",
      "19s - loss: 3.6116 - acc: 0.5635\n",
      "Epoch 88/500\n",
      "19s - loss: 3.6136 - acc: 0.5643\n",
      "Epoch 89/500\n",
      "19s - loss: 3.6053 - acc: 0.5645\n",
      "Epoch 90/500\n",
      "19s - loss: 3.6117 - acc: 0.5639\n",
      "Epoch 91/500\n",
      "19s - loss: 3.6021 - acc: 0.5656\n",
      "Epoch 92/500\n",
      "19s - loss: 3.6086 - acc: 0.5639\n",
      "Epoch 93/500\n",
      "19s - loss: 3.6072 - acc: 0.5638\n",
      "Epoch 94/500\n",
      "19s - loss: 3.5989 - acc: 0.5649\n",
      "Epoch 95/500\n",
      "19s - loss: 3.5959 - acc: 0.5666\n",
      "Epoch 96/500\n",
      "19s - loss: 3.6051 - acc: 0.5651\n",
      "Epoch 97/500\n",
      "19s - loss: 3.6034 - acc: 0.5650\n",
      "Epoch 98/500\n",
      "19s - loss: 3.5992 - acc: 0.5653\n",
      "Epoch 99/500\n",
      "19s - loss: 3.6020 - acc: 0.5659\n",
      "Epoch 100/500\n",
      "19s - loss: 3.6042 - acc: 0.5645\n",
      "Epoch 101/500\n",
      "19s - loss: 3.5946 - acc: 0.5672\n",
      "Epoch 102/500\n",
      "19s - loss: 3.5968 - acc: 0.5664\n",
      "Epoch 103/500\n",
      "19s - loss: 3.5948 - acc: 0.5662\n",
      "Epoch 104/500\n",
      "18s - loss: 3.6043 - acc: 0.5665\n",
      "Epoch 105/500\n",
      "18s - loss: 3.5976 - acc: 0.5658\n",
      "Epoch 106/500\n",
      "19s - loss: 3.5924 - acc: 0.5677\n",
      "Epoch 107/500\n",
      "19s - loss: 3.5912 - acc: 0.5669\n",
      "Epoch 108/500\n",
      "18s - loss: 3.5919 - acc: 0.5669\n",
      "Epoch 109/500\n",
      "18s - loss: 3.5939 - acc: 0.5663\n",
      "Epoch 110/500\n",
      "19s - loss: 3.5998 - acc: 0.5643\n",
      "Epoch 111/500\n",
      "19s - loss: 3.5873 - acc: 0.5673\n",
      "Epoch 112/500\n",
      "19s - loss: 3.5924 - acc: 0.5666\n",
      "Epoch 113/500\n",
      "19s - loss: 3.5899 - acc: 0.5654\n",
      "Epoch 114/500\n",
      "19s - loss: 3.5886 - acc: 0.5675\n",
      "Epoch 115/500\n",
      "19s - loss: 3.5857 - acc: 0.5679\n",
      "Epoch 116/500\n",
      "19s - loss: 3.5825 - acc: 0.5689\n",
      "Epoch 117/500\n",
      "19s - loss: 3.5811 - acc: 0.5696\n",
      "Epoch 118/500\n",
      "19s - loss: 3.5878 - acc: 0.5670\n",
      "Epoch 119/500\n",
      "19s - loss: 3.5861 - acc: 0.5675\n",
      "Epoch 120/500\n",
      "19s - loss: 3.5826 - acc: 0.5677\n",
      "Epoch 121/500\n",
      "19s - loss: 3.5820 - acc: 0.5681\n",
      "Epoch 122/500\n",
      "19s - loss: 3.5814 - acc: 0.5668\n",
      "Epoch 123/500\n",
      "19s - loss: 3.5797 - acc: 0.5693\n",
      "Epoch 124/500\n",
      "19s - loss: 3.5753 - acc: 0.5704\n",
      "Epoch 125/500\n",
      "19s - loss: 3.5773 - acc: 0.5677\n",
      "Epoch 126/500\n",
      "19s - loss: 3.5766 - acc: 0.5689\n",
      "Epoch 127/500\n",
      "19s - loss: 3.5775 - acc: 0.5684\n",
      "Epoch 128/500\n",
      "19s - loss: 3.5763 - acc: 0.5696\n",
      "Epoch 129/500\n",
      "19s - loss: 3.5716 - acc: 0.5701\n",
      "Epoch 130/500\n",
      "19s - loss: 3.5710 - acc: 0.5703\n",
      "Epoch 131/500\n",
      "18s - loss: 3.5759 - acc: 0.5706\n",
      "Epoch 132/500\n",
      "18s - loss: 3.5720 - acc: 0.5695\n",
      "Epoch 133/500\n",
      "19s - loss: 3.5722 - acc: 0.5702\n",
      "Epoch 134/500\n",
      "19s - loss: 3.5718 - acc: 0.5703\n",
      "Epoch 135/500\n",
      "19s - loss: 3.5759 - acc: 0.5684\n",
      "Epoch 136/500\n",
      "19s - loss: 3.5695 - acc: 0.5713\n",
      "Epoch 137/500\n",
      "19s - loss: 3.5717 - acc: 0.5696\n",
      "Epoch 138/500\n",
      "19s - loss: 3.5699 - acc: 0.5703\n",
      "Epoch 139/500\n",
      "18s - loss: 3.5669 - acc: 0.5709\n",
      "Epoch 140/500\n",
      "19s - loss: 3.5656 - acc: 0.5709\n",
      "Epoch 141/500\n",
      "19s - loss: 3.5645 - acc: 0.5724\n",
      "Epoch 142/500\n",
      "18s - loss: 3.5654 - acc: 0.5707\n",
      "Epoch 143/500\n",
      "18s - loss: 3.5661 - acc: 0.5697\n",
      "Epoch 144/500\n",
      "19s - loss: 3.5669 - acc: 0.5696\n",
      "Epoch 145/500\n",
      "19s - loss: 3.5607 - acc: 0.5707\n",
      "Epoch 146/500\n",
      "19s - loss: 3.5643 - acc: 0.5702\n",
      "Epoch 147/500\n",
      "19s - loss: 3.5607 - acc: 0.5711\n",
      "Epoch 148/500\n",
      "18s - loss: 3.5631 - acc: 0.5713\n",
      "Epoch 149/500\n",
      "19s - loss: 3.5623 - acc: 0.5708\n",
      "Epoch 150/500\n",
      "18s - loss: 3.5605 - acc: 0.5719\n",
      "Epoch 151/500\n",
      "19s - loss: 3.5596 - acc: 0.5721\n",
      "Epoch 152/500\n",
      "19s - loss: 3.5562 - acc: 0.5727\n",
      "Epoch 153/500\n",
      "19s - loss: 3.5592 - acc: 0.5717\n",
      "Epoch 154/500\n",
      "19s - loss: 3.5514 - acc: 0.5734\n",
      "Epoch 155/500\n",
      "19s - loss: 3.5568 - acc: 0.5718\n",
      "Epoch 156/500\n",
      "18s - loss: 3.5542 - acc: 0.5729\n",
      "Epoch 157/500\n",
      "18s - loss: 3.5509 - acc: 0.5738\n",
      "Epoch 158/500\n",
      "18s - loss: 3.5561 - acc: 0.5725\n",
      "Epoch 159/500\n",
      "18s - loss: 3.5493 - acc: 0.5734\n",
      "Epoch 160/500\n",
      "18s - loss: 3.5498 - acc: 0.5731\n",
      "Epoch 161/500\n",
      "19s - loss: 3.5496 - acc: 0.5739\n",
      "Epoch 162/500\n",
      "19s - loss: 3.5522 - acc: 0.5724\n",
      "Epoch 163/500\n",
      "19s - loss: 3.5535 - acc: 0.5726\n",
      "Epoch 164/500\n",
      "19s - loss: 3.5543 - acc: 0.5728\n",
      "Epoch 165/500\n",
      "19s - loss: 3.5507 - acc: 0.5742\n",
      "Epoch 166/500\n",
      "18s - loss: 3.5479 - acc: 0.5724\n",
      "Epoch 167/500\n",
      "18s - loss: 3.5453 - acc: 0.5740\n",
      "Epoch 168/500\n",
      "18s - loss: 3.5453 - acc: 0.5746\n",
      "Epoch 169/500\n",
      "18s - loss: 3.5464 - acc: 0.5730\n",
      "Epoch 170/500\n",
      "19s - loss: 3.5459 - acc: 0.5746\n",
      "Epoch 171/500\n",
      "19s - loss: 3.5442 - acc: 0.5739\n",
      "Epoch 172/500\n",
      "19s - loss: 3.5483 - acc: 0.5736\n",
      "Epoch 173/500\n",
      "19s - loss: 3.5460 - acc: 0.5740\n",
      "Epoch 174/500\n",
      "19s - loss: 3.5425 - acc: 0.5736\n",
      "Epoch 175/500\n",
      "19s - loss: 3.5414 - acc: 0.5746\n",
      "Epoch 176/500\n",
      "19s - loss: 3.5392 - acc: 0.5743\n",
      "Epoch 177/500\n",
      "19s - loss: 3.5396 - acc: 0.5735\n",
      "Epoch 178/500\n"
     ]
    },
    {
     "name": "stdout",
     "output_type": "stream",
     "text": [
      "19s - loss: 3.5390 - acc: 0.5744\n",
      "Epoch 179/500\n",
      "19s - loss: 3.5416 - acc: 0.5745\n",
      "Epoch 180/500\n",
      "19s - loss: 3.5338 - acc: 0.5762\n",
      "Epoch 181/500\n",
      "19s - loss: 3.5391 - acc: 0.5761\n",
      "Epoch 182/500\n",
      "19s - loss: 3.5342 - acc: 0.5763\n",
      "Epoch 183/500\n",
      "18s - loss: 3.5398 - acc: 0.5753\n",
      "Epoch 184/500\n",
      "19s - loss: 3.5378 - acc: 0.5748\n",
      "Epoch 185/500\n",
      "19s - loss: 3.5380 - acc: 0.5742\n",
      "Epoch 186/500\n",
      "19s - loss: 3.5315 - acc: 0.5753\n",
      "Epoch 187/500\n",
      "19s - loss: 3.5348 - acc: 0.5752\n",
      "Epoch 188/500\n",
      "19s - loss: 3.5380 - acc: 0.5752\n",
      "Epoch 189/500\n",
      "19s - loss: 3.5327 - acc: 0.5766\n",
      "Epoch 190/500\n",
      "19s - loss: 3.5343 - acc: 0.5750\n",
      "Epoch 191/500\n",
      "19s - loss: 3.5295 - acc: 0.5775\n",
      "Epoch 192/500\n",
      "18s - loss: 3.5332 - acc: 0.5746\n",
      "Epoch 193/500\n",
      "19s - loss: 3.5325 - acc: 0.5759\n",
      "Epoch 194/500\n",
      "19s - loss: 3.5323 - acc: 0.5738\n",
      "Epoch 195/500\n",
      "18s - loss: 3.5258 - acc: 0.5767\n",
      "Epoch 196/500\n",
      "18s - loss: 3.5294 - acc: 0.5758\n",
      "Epoch 197/500\n",
      "19s - loss: 3.5301 - acc: 0.5762\n",
      "Epoch 198/500\n",
      "20s - loss: 3.5261 - acc: 0.5761\n",
      "Epoch 199/500\n",
      "21s - loss: 3.5258 - acc: 0.5759\n",
      "Epoch 200/500\n",
      "19s - loss: 3.5274 - acc: 0.5760\n",
      "Epoch 201/500\n",
      "19s - loss: 3.5256 - acc: 0.5763\n",
      "Epoch 202/500\n",
      "19s - loss: 3.5253 - acc: 0.5759\n",
      "Epoch 203/500\n",
      "19s - loss: 3.5282 - acc: 0.5760\n",
      "Epoch 204/500\n",
      "19s - loss: 3.5254 - acc: 0.5770\n",
      "Epoch 205/500\n",
      "19s - loss: 3.5238 - acc: 0.5776\n",
      "Epoch 206/500\n",
      "18s - loss: 3.5228 - acc: 0.5768\n",
      "Epoch 207/500\n",
      "18s - loss: 3.5203 - acc: 0.5779\n",
      "Epoch 208/500\n",
      "19s - loss: 3.5203 - acc: 0.5763\n",
      "Epoch 209/500\n",
      "19s - loss: 3.5250 - acc: 0.5765\n",
      "Epoch 210/500\n",
      "19s - loss: 3.5194 - acc: 0.5782\n",
      "Epoch 211/500\n",
      "19s - loss: 3.5236 - acc: 0.5755\n",
      "Epoch 212/500\n",
      "19s - loss: 3.5185 - acc: 0.5780\n",
      "Epoch 213/500\n",
      "19s - loss: 3.5204 - acc: 0.5780\n",
      "Epoch 214/500\n",
      "19s - loss: 3.5170 - acc: 0.5782\n",
      "Epoch 215/500\n",
      "19s - loss: 3.5210 - acc: 0.5785\n",
      "Epoch 216/500\n",
      "19s - loss: 3.5135 - acc: 0.5790\n",
      "Epoch 217/500\n",
      "19s - loss: 3.5201 - acc: 0.5775\n",
      "Epoch 218/500\n",
      "19s - loss: 3.5152 - acc: 0.5783\n",
      "Epoch 219/500\n",
      "19s - loss: 3.5149 - acc: 0.5785\n",
      "Epoch 220/500\n",
      "19s - loss: 3.5176 - acc: 0.5776\n",
      "Epoch 221/500\n",
      "19s - loss: 3.5153 - acc: 0.5784\n",
      "Epoch 222/500\n",
      "19s - loss: 3.5146 - acc: 0.5784\n",
      "Epoch 223/500\n",
      "19s - loss: 3.5156 - acc: 0.5782\n",
      "Epoch 224/500\n",
      "19s - loss: 3.5143 - acc: 0.5786\n",
      "Epoch 225/500\n",
      "19s - loss: 3.5089 - acc: 0.5800\n",
      "Epoch 226/500\n",
      "19s - loss: 3.5111 - acc: 0.5783\n",
      "Epoch 227/500\n",
      "19s - loss: 3.5088 - acc: 0.5798\n",
      "Epoch 228/500\n",
      "18s - loss: 3.5100 - acc: 0.5792\n",
      "Epoch 229/500\n",
      "18s - loss: 3.5059 - acc: 0.5795\n",
      "Epoch 230/500\n",
      "18s - loss: 3.5052 - acc: 0.5800\n",
      "Epoch 231/500\n",
      "19s - loss: 3.5064 - acc: 0.5796\n",
      "Epoch 232/500\n",
      "19s - loss: 3.5087 - acc: 0.5792\n",
      "Epoch 233/500\n",
      "19s - loss: 3.5063 - acc: 0.5798\n",
      "Epoch 234/500\n",
      "19s - loss: 3.5081 - acc: 0.5799\n",
      "Epoch 235/500\n",
      "19s - loss: 3.5071 - acc: 0.5809\n",
      "Epoch 236/500\n",
      "19s - loss: 3.5061 - acc: 0.5798\n",
      "Epoch 237/500\n",
      "19s - loss: 3.5003 - acc: 0.5804\n",
      "Epoch 238/500\n",
      "19s - loss: 3.5034 - acc: 0.5810\n",
      "Epoch 239/500\n",
      "19s - loss: 3.5047 - acc: 0.5808\n",
      "Epoch 240/500\n",
      "19s - loss: 3.5052 - acc: 0.5806\n",
      "Epoch 241/500\n",
      "19s - loss: 3.5008 - acc: 0.5811\n",
      "Epoch 242/500\n",
      "19s - loss: 3.5056 - acc: 0.5803\n",
      "Epoch 243/500\n",
      "19s - loss: 3.4997 - acc: 0.5815\n",
      "Epoch 244/500\n",
      "19s - loss: 3.5035 - acc: 0.5789\n",
      "Epoch 245/500\n",
      "18s - loss: 3.5018 - acc: 0.5809\n",
      "Epoch 246/500\n",
      "18s - loss: 3.5013 - acc: 0.5801\n",
      "Epoch 247/500\n",
      "19s - loss: 3.4978 - acc: 0.5813\n",
      "Epoch 248/500\n",
      "18s - loss: 3.4971 - acc: 0.5813\n",
      "Epoch 249/500\n",
      "19s - loss: 3.4987 - acc: 0.5816\n",
      "Epoch 250/500\n",
      "19s - loss: 3.4997 - acc: 0.5819\n",
      "Epoch 251/500\n",
      "19s - loss: 3.4985 - acc: 0.5816\n",
      "Epoch 252/500\n",
      "18s - loss: 3.4959 - acc: 0.5809\n",
      "Epoch 253/500\n",
      "19s - loss: 3.4964 - acc: 0.5808\n",
      "Epoch 254/500\n",
      "19s - loss: 3.4915 - acc: 0.5827\n",
      "Epoch 255/500\n",
      "18s - loss: 3.4985 - acc: 0.5802\n",
      "Epoch 256/500\n",
      "19s - loss: 3.4908 - acc: 0.5820\n",
      "Epoch 257/500\n",
      "19s - loss: 3.4960 - acc: 0.5809\n",
      "Epoch 258/500\n",
      "19s - loss: 3.4966 - acc: 0.5823\n",
      "Epoch 259/500\n",
      "19s - loss: 3.4951 - acc: 0.5816\n",
      "Epoch 260/500\n",
      "18s - loss: 3.4892 - acc: 0.5828\n",
      "Epoch 261/500\n",
      "19s - loss: 3.4963 - acc: 0.5815\n",
      "Epoch 262/500\n",
      "19s - loss: 3.4913 - acc: 0.5821\n",
      "Epoch 263/500\n",
      "18s - loss: 3.4921 - acc: 0.5814\n",
      "Epoch 264/500\n",
      "18s - loss: 3.4924 - acc: 0.5832\n",
      "Epoch 265/500\n",
      "19s - loss: 3.4893 - acc: 0.5823\n",
      "Epoch 266/500\n",
      "19s - loss: 3.4897 - acc: 0.5820\n",
      "Epoch 267/500\n",
      "19s - loss: 3.4916 - acc: 0.5815\n",
      "Epoch 268/500\n",
      "18s - loss: 3.4920 - acc: 0.5822\n",
      "Epoch 269/500\n",
      "19s - loss: 3.4928 - acc: 0.5823\n",
      "Epoch 270/500\n",
      "18s - loss: 3.4865 - acc: 0.5821\n",
      "Epoch 271/500\n",
      "18s - loss: 3.4873 - acc: 0.5823\n",
      "Epoch 272/500\n",
      "18s - loss: 3.4851 - acc: 0.5822\n",
      "Epoch 273/500\n",
      "19s - loss: 3.4899 - acc: 0.5819\n",
      "Epoch 274/500\n",
      "19s - loss: 3.4837 - acc: 0.5830\n",
      "Epoch 275/500\n",
      "19s - loss: 3.4866 - acc: 0.5832\n",
      "Epoch 276/500\n",
      "18s - loss: 3.4873 - acc: 0.5834\n",
      "Epoch 277/500\n",
      "19s - loss: 3.4816 - acc: 0.5840\n",
      "Epoch 278/500\n",
      "19s - loss: 3.4875 - acc: 0.5838\n",
      "Epoch 279/500\n",
      "18s - loss: 3.4883 - acc: 0.5825\n",
      "Epoch 280/500\n",
      "18s - loss: 3.4832 - acc: 0.5840\n",
      "Epoch 281/500\n",
      "19s - loss: 3.4840 - acc: 0.5828\n",
      "Epoch 282/500\n",
      "19s - loss: 3.4831 - acc: 0.5825\n",
      "Epoch 283/500\n",
      "18s - loss: 3.4795 - acc: 0.5839\n",
      "Epoch 284/500\n",
      "19s - loss: 3.4835 - acc: 0.5826\n",
      "Epoch 285/500\n",
      "19s - loss: 3.4856 - acc: 0.5833\n",
      "Epoch 286/500\n",
      "19s - loss: 3.4816 - acc: 0.5826\n",
      "Epoch 287/500\n",
      "19s - loss: 3.4785 - acc: 0.5832\n",
      "Epoch 288/500\n",
      "19s - loss: 3.4791 - acc: 0.5839\n",
      "Epoch 289/500\n",
      "19s - loss: 3.4847 - acc: 0.5831\n",
      "Epoch 290/500\n",
      "19s - loss: 3.4733 - acc: 0.5851\n",
      "Epoch 291/500\n",
      "19s - loss: 3.4776 - acc: 0.5841\n",
      "Epoch 292/500\n",
      "19s - loss: 3.4803 - acc: 0.5835\n",
      "Epoch 293/500\n",
      "19s - loss: 3.4779 - acc: 0.5834\n",
      "Epoch 294/500\n",
      "19s - loss: 3.4789 - acc: 0.5843\n",
      "Epoch 295/500\n",
      "19s - loss: 3.4785 - acc: 0.5844\n",
      "Epoch 296/500\n",
      "19s - loss: 3.4817 - acc: 0.5836\n",
      "Epoch 297/500\n",
      "19s - loss: 3.4750 - acc: 0.5853\n",
      "Epoch 298/500\n",
      "19s - loss: 3.4787 - acc: 0.5829\n",
      "Epoch 299/500\n",
      "19s - loss: 3.4778 - acc: 0.5833\n",
      "Epoch 300/500\n",
      "19s - loss: 3.4795 - acc: 0.5840\n",
      "Epoch 301/500\n",
      "19s - loss: 3.4761 - acc: 0.5851\n",
      "Epoch 302/500\n",
      "19s - loss: 3.4714 - acc: 0.5841\n",
      "Epoch 303/500\n",
      "19s - loss: 3.4764 - acc: 0.5855\n",
      "Epoch 304/500\n",
      "19s - loss: 3.4738 - acc: 0.5851\n",
      "Epoch 305/500\n",
      "19s - loss: 3.4738 - acc: 0.5845\n",
      "Epoch 306/500\n",
      "19s - loss: 3.4689 - acc: 0.5860\n",
      "Epoch 307/500\n",
      "20s - loss: 3.4734 - acc: 0.5851\n",
      "Epoch 308/500\n",
      "19s - loss: 3.4715 - acc: 0.5847\n",
      "Epoch 309/500\n",
      "19s - loss: 3.4720 - acc: 0.5852\n",
      "Epoch 310/500\n",
      "19s - loss: 3.4706 - acc: 0.5845\n",
      "Epoch 311/500\n",
      "19s - loss: 3.4714 - acc: 0.5856\n",
      "Epoch 312/500\n",
      "19s - loss: 3.4726 - acc: 0.5849\n",
      "Epoch 313/500\n",
      "19s - loss: 3.4700 - acc: 0.5845\n",
      "Epoch 314/500\n",
      "19s - loss: 3.4686 - acc: 0.5857\n",
      "Epoch 315/500\n",
      "19s - loss: 3.4685 - acc: 0.5861\n",
      "Epoch 316/500\n",
      "19s - loss: 3.4700 - acc: 0.5860\n",
      "Epoch 317/500\n",
      "19s - loss: 3.4686 - acc: 0.5853\n",
      "Epoch 318/500\n",
      "19s - loss: 3.4633 - acc: 0.5869\n",
      "Epoch 319/500\n",
      "19s - loss: 3.4653 - acc: 0.5860\n",
      "Epoch 320/500\n",
      "19s - loss: 3.4639 - acc: 0.5860\n",
      "Epoch 321/500\n",
      "19s - loss: 3.4657 - acc: 0.5854\n",
      "Epoch 322/500\n",
      "19s - loss: 3.4658 - acc: 0.5869\n",
      "Epoch 323/500\n",
      "19s - loss: 3.4658 - acc: 0.5867\n",
      "Epoch 324/500\n",
      "19s - loss: 3.4671 - acc: 0.5852\n",
      "Epoch 325/500\n",
      "19s - loss: 3.4656 - acc: 0.5860\n",
      "Epoch 326/500\n",
      "19s - loss: 3.4620 - acc: 0.5861\n",
      "Epoch 327/500\n",
      "19s - loss: 3.4595 - acc: 0.5880\n",
      "Epoch 328/500\n",
      "19s - loss: 3.4580 - acc: 0.5873\n",
      "Epoch 329/500\n",
      "19s - loss: 3.4626 - acc: 0.5855\n",
      "Epoch 330/500\n",
      "19s - loss: 3.4616 - acc: 0.5864\n",
      "Epoch 331/500\n",
      "19s - loss: 3.4599 - acc: 0.5865\n",
      "Epoch 332/500\n",
      "19s - loss: 3.4594 - acc: 0.5879\n",
      "Epoch 333/500\n",
      "19s - loss: 3.4604 - acc: 0.5868\n",
      "Epoch 334/500\n",
      "19s - loss: 3.4650 - acc: 0.5860\n",
      "Epoch 335/500\n",
      "19s - loss: 3.4536 - acc: 0.5878\n",
      "Epoch 336/500\n",
      "19s - loss: 3.4585 - acc: 0.5867\n",
      "Epoch 337/500\n",
      "19s - loss: 3.4613 - acc: 0.5869\n",
      "Epoch 338/500\n",
      "19s - loss: 3.4591 - acc: 0.5866\n",
      "Epoch 339/500\n",
      "19s - loss: 3.4580 - acc: 0.5873\n",
      "Epoch 340/500\n",
      "18s - loss: 3.4582 - acc: 0.5881\n",
      "Epoch 341/500\n",
      "19s - loss: 3.4568 - acc: 0.5870\n",
      "Epoch 342/500\n",
      "19s - loss: 3.4570 - acc: 0.5865\n",
      "Epoch 343/500\n",
      "20s - loss: 3.4546 - acc: 0.5883\n",
      "Epoch 344/500\n",
      "20s - loss: 3.4568 - acc: 0.5881\n",
      "Epoch 345/500\n",
      "19s - loss: 3.4563 - acc: 0.5876\n",
      "Epoch 346/500\n",
      "18s - loss: 3.4577 - acc: 0.5873\n",
      "Epoch 347/500\n",
      "19s - loss: 3.4559 - acc: 0.5869\n",
      "Epoch 348/500\n",
      "19s - loss: 3.4525 - acc: 0.5881\n",
      "Epoch 349/500\n",
      "19s - loss: 3.4522 - acc: 0.5878\n",
      "Epoch 350/500\n",
      "19s - loss: 3.4528 - acc: 0.5876\n",
      "Epoch 351/500\n",
      "19s - loss: 3.4526 - acc: 0.5881\n",
      "Epoch 352/500\n",
      "19s - loss: 3.4530 - acc: 0.5881\n",
      "Epoch 353/500\n"
     ]
    },
    {
     "name": "stdout",
     "output_type": "stream",
     "text": [
      "18s - loss: 3.4573 - acc: 0.5873\n",
      "Epoch 354/500\n",
      "19s - loss: 3.4508 - acc: 0.5871\n",
      "Epoch 355/500\n",
      "19s - loss: 3.4533 - acc: 0.5876\n",
      "Epoch 356/500\n",
      "19s - loss: 3.4501 - acc: 0.5878\n",
      "Epoch 357/500\n",
      "19s - loss: 3.4496 - acc: 0.5883\n",
      "Epoch 358/500\n",
      "19s - loss: 3.4507 - acc: 0.5895\n",
      "Epoch 359/500\n",
      "19s - loss: 3.4508 - acc: 0.5890\n",
      "Epoch 360/500\n",
      "19s - loss: 3.4509 - acc: 0.5880\n",
      "Epoch 361/500\n",
      "19s - loss: 3.4510 - acc: 0.5888\n",
      "Epoch 362/500\n",
      "19s - loss: 3.4485 - acc: 0.5886\n",
      "Epoch 363/500\n",
      "19s - loss: 3.4508 - acc: 0.5874\n",
      "Epoch 364/500\n",
      "19s - loss: 3.4464 - acc: 0.5894\n",
      "Epoch 365/500\n",
      "19s - loss: 3.4465 - acc: 0.5893\n",
      "Epoch 366/500\n",
      "19s - loss: 3.4473 - acc: 0.5890\n",
      "Epoch 367/500\n",
      "19s - loss: 3.4455 - acc: 0.5893\n",
      "Epoch 368/500\n",
      "19s - loss: 3.4453 - acc: 0.5892\n",
      "Epoch 369/500\n",
      "19s - loss: 3.4444 - acc: 0.5892\n",
      "Epoch 370/500\n",
      "19s - loss: 3.4482 - acc: 0.5880\n",
      "Epoch 371/500\n",
      "19s - loss: 3.4407 - acc: 0.5906\n",
      "Epoch 372/500\n",
      "19s - loss: 3.4408 - acc: 0.5897\n",
      "Epoch 373/500\n",
      "19s - loss: 3.4436 - acc: 0.5897\n",
      "Epoch 374/500\n",
      "18s - loss: 3.4475 - acc: 0.5889\n",
      "Epoch 375/500\n",
      "19s - loss: 3.4460 - acc: 0.5889\n",
      "Epoch 376/500\n",
      "19s - loss: 3.4454 - acc: 0.5885\n",
      "Epoch 377/500\n",
      "19s - loss: 3.4483 - acc: 0.5876\n",
      "Epoch 378/500\n",
      "19s - loss: 3.4443 - acc: 0.5902\n",
      "Epoch 379/500\n",
      "19s - loss: 3.4432 - acc: 0.5898\n",
      "Epoch 380/500\n",
      "19s - loss: 3.4446 - acc: 0.5903\n",
      "Epoch 381/500\n",
      "19s - loss: 3.4436 - acc: 0.5902\n",
      "Epoch 382/500\n",
      "19s - loss: 3.4359 - acc: 0.5908\n",
      "Epoch 383/500\n",
      "19s - loss: 3.4410 - acc: 0.5894\n",
      "Epoch 384/500\n",
      "19s - loss: 3.4443 - acc: 0.5887\n",
      "Epoch 385/500\n",
      "19s - loss: 3.4398 - acc: 0.5902\n",
      "Epoch 386/500\n",
      "19s - loss: 3.4385 - acc: 0.5917\n",
      "Epoch 387/500\n",
      "19s - loss: 3.4428 - acc: 0.5898\n",
      "Epoch 388/500\n",
      "19s - loss: 3.4437 - acc: 0.5892\n",
      "Epoch 389/500\n",
      "19s - loss: 3.4387 - acc: 0.5903\n",
      "Epoch 390/500\n",
      "18s - loss: 3.4389 - acc: 0.5900\n",
      "Epoch 391/500\n",
      "18s - loss: 3.4434 - acc: 0.5888\n",
      "Epoch 392/500\n",
      "19s - loss: 3.4401 - acc: 0.5882\n",
      "Epoch 393/500\n",
      "19s - loss: 3.4398 - acc: 0.5893\n",
      "Epoch 394/500\n",
      "19s - loss: 3.4385 - acc: 0.5896\n",
      "Epoch 395/500\n",
      "19s - loss: 3.4364 - acc: 0.5914\n",
      "Epoch 396/500\n",
      "19s - loss: 3.4403 - acc: 0.5886\n",
      "Epoch 397/500\n",
      "19s - loss: 3.4365 - acc: 0.5900\n",
      "Epoch 398/500\n",
      "19s - loss: 3.4401 - acc: 0.5894\n",
      "Epoch 399/500\n",
      "19s - loss: 3.4382 - acc: 0.5903\n",
      "Epoch 400/500\n",
      "19s - loss: 3.4401 - acc: 0.5893\n",
      "Epoch 401/500\n",
      "19s - loss: 3.4373 - acc: 0.5903\n",
      "Epoch 402/500\n",
      "19s - loss: 3.4387 - acc: 0.5895\n",
      "Epoch 403/500\n",
      "19s - loss: 3.4368 - acc: 0.5902\n",
      "Epoch 404/500\n",
      "19s - loss: 3.4362 - acc: 0.5902\n",
      "Epoch 405/500\n",
      "19s - loss: 3.4352 - acc: 0.5913\n",
      "Epoch 406/500\n",
      "19s - loss: 3.4345 - acc: 0.5892\n",
      "Epoch 407/500\n",
      "19s - loss: 3.4370 - acc: 0.5896\n",
      "Epoch 408/500\n",
      "19s - loss: 3.4325 - acc: 0.5905\n",
      "Epoch 409/500\n",
      "18s - loss: 3.4335 - acc: 0.5906\n",
      "Epoch 410/500\n",
      "18s - loss: 3.4324 - acc: 0.5918\n",
      "Epoch 411/500\n",
      "19s - loss: 3.4310 - acc: 0.5915\n",
      "Epoch 412/500\n",
      "20s - loss: 3.4359 - acc: 0.5905\n",
      "Epoch 413/500\n",
      "19s - loss: 3.4309 - acc: 0.5917\n",
      "Epoch 414/500\n",
      "19s - loss: 3.4326 - acc: 0.5901\n",
      "Epoch 415/500\n",
      "19s - loss: 3.4319 - acc: 0.5914\n",
      "Epoch 416/500\n",
      "19s - loss: 3.4280 - acc: 0.5924\n",
      "Epoch 417/500\n",
      "19s - loss: 3.4325 - acc: 0.5900\n",
      "Epoch 418/500\n",
      "19s - loss: 3.4379 - acc: 0.5898\n",
      "Epoch 419/500\n",
      "19s - loss: 3.4273 - acc: 0.5917\n",
      "Epoch 420/500\n",
      "19s - loss: 3.4346 - acc: 0.5899\n",
      "Epoch 421/500\n",
      "18s - loss: 3.4303 - acc: 0.5921\n",
      "Epoch 422/500\n",
      "18s - loss: 3.4299 - acc: 0.5923\n",
      "Epoch 423/500\n",
      "19s - loss: 3.4304 - acc: 0.5904\n",
      "Epoch 424/500\n",
      "19s - loss: 3.4307 - acc: 0.5920\n",
      "Epoch 425/500\n",
      "18s - loss: 3.4279 - acc: 0.5930\n",
      "Epoch 426/500\n",
      "18s - loss: 3.4293 - acc: 0.5910\n",
      "Epoch 427/500\n",
      "18s - loss: 3.4278 - acc: 0.5924\n",
      "Epoch 428/500\n",
      "18s - loss: 3.4301 - acc: 0.5905\n",
      "Epoch 429/500\n",
      "18s - loss: 3.4253 - acc: 0.5917\n",
      "Epoch 430/500\n",
      "18s - loss: 3.4257 - acc: 0.5909\n",
      "Epoch 431/500\n",
      "18s - loss: 3.4277 - acc: 0.5916\n",
      "Epoch 432/500\n",
      "18s - loss: 3.4242 - acc: 0.5924\n",
      "Epoch 433/500\n",
      "18s - loss: 3.4226 - acc: 0.5925\n",
      "Epoch 434/500\n",
      "21s - loss: 3.4259 - acc: 0.5927\n",
      "Epoch 435/500\n",
      "20s - loss: 3.4268 - acc: 0.5904\n",
      "Epoch 436/500\n",
      "19s - loss: 3.4237 - acc: 0.5926\n",
      "Epoch 437/500\n",
      "19s - loss: 3.4223 - acc: 0.5922\n",
      "Epoch 438/500\n",
      "19s - loss: 3.4240 - acc: 0.5917\n",
      "Epoch 439/500\n",
      "19s - loss: 3.4254 - acc: 0.5925\n",
      "Epoch 440/500\n",
      "19s - loss: 3.4282 - acc: 0.5922\n",
      "Epoch 441/500\n",
      "19s - loss: 3.4212 - acc: 0.5929\n",
      "Epoch 442/500\n",
      "19s - loss: 3.4239 - acc: 0.5921\n",
      "Epoch 443/500\n",
      "19s - loss: 3.4250 - acc: 0.5907\n",
      "Epoch 444/500\n",
      "19s - loss: 3.4235 - acc: 0.5921\n",
      "Epoch 445/500\n",
      "19s - loss: 3.4220 - acc: 0.5918\n",
      "Epoch 446/500\n",
      "19s - loss: 3.4234 - acc: 0.5917\n",
      "Epoch 447/500\n",
      "19s - loss: 3.4185 - acc: 0.5938\n",
      "Epoch 448/500\n",
      "19s - loss: 3.4230 - acc: 0.5922\n",
      "Epoch 449/500\n",
      "19s - loss: 3.4175 - acc: 0.5941\n",
      "Epoch 450/500\n",
      "19s - loss: 3.4248 - acc: 0.5921\n",
      "Epoch 451/500\n",
      "19s - loss: 3.4218 - acc: 0.5917\n",
      "Epoch 452/500\n",
      "19s - loss: 3.4160 - acc: 0.5937\n",
      "Epoch 453/500\n",
      "18s - loss: 3.4202 - acc: 0.5929\n",
      "Epoch 454/500\n",
      "18s - loss: 3.4168 - acc: 0.5944\n",
      "Epoch 455/500\n",
      "19s - loss: 3.4193 - acc: 0.5930\n",
      "Epoch 456/500\n",
      "18s - loss: 3.4199 - acc: 0.5931\n",
      "Epoch 457/500\n",
      "18s - loss: 3.4189 - acc: 0.5927\n",
      "Epoch 458/500\n",
      "18s - loss: 3.4192 - acc: 0.5928\n",
      "Epoch 459/500\n",
      "18s - loss: 3.4159 - acc: 0.5937\n",
      "Epoch 460/500\n",
      "18s - loss: 3.4195 - acc: 0.5930\n",
      "Epoch 461/500\n",
      "18s - loss: 3.4208 - acc: 0.5915\n",
      "Epoch 462/500\n",
      "18s - loss: 3.4185 - acc: 0.5931\n",
      "Epoch 463/500\n",
      "18s - loss: 3.4199 - acc: 0.5923\n",
      "Epoch 464/500\n",
      "18s - loss: 3.4185 - acc: 0.5926\n",
      "Epoch 465/500\n",
      "18s - loss: 3.4125 - acc: 0.5943\n",
      "Epoch 466/500\n",
      "18s - loss: 3.4154 - acc: 0.5947\n",
      "Epoch 467/500\n",
      "18s - loss: 3.4175 - acc: 0.5925\n",
      "Epoch 468/500\n",
      "19s - loss: 3.4179 - acc: 0.5931\n",
      "Epoch 469/500\n",
      "19s - loss: 3.4146 - acc: 0.5932\n",
      "Epoch 470/500\n",
      "19s - loss: 3.4161 - acc: 0.5932\n",
      "Epoch 471/500\n",
      "18s - loss: 3.4154 - acc: 0.5929\n",
      "Epoch 472/500\n",
      "18s - loss: 3.4155 - acc: 0.5936\n",
      "Epoch 473/500\n",
      "18s - loss: 3.4179 - acc: 0.5926\n",
      "Epoch 474/500\n",
      "18s - loss: 3.4147 - acc: 0.5939\n",
      "Epoch 475/500\n",
      "18s - loss: 3.4149 - acc: 0.5937\n",
      "Epoch 476/500\n",
      "18s - loss: 3.4164 - acc: 0.5950\n",
      "Epoch 477/500\n",
      "19s - loss: 3.4118 - acc: 0.5945\n",
      "Epoch 478/500\n",
      "18s - loss: 3.4143 - acc: 0.5937\n",
      "Epoch 479/500\n",
      "18s - loss: 3.4108 - acc: 0.5945\n",
      "Epoch 480/500\n",
      "18s - loss: 3.4100 - acc: 0.5941\n",
      "Epoch 481/500\n",
      "18s - loss: 3.4158 - acc: 0.5943\n",
      "Epoch 482/500\n",
      "19s - loss: 3.4123 - acc: 0.5947\n",
      "Epoch 483/500\n",
      "18s - loss: 3.4132 - acc: 0.5932\n",
      "Epoch 484/500\n",
      "19s - loss: 3.4105 - acc: 0.5937\n",
      "Epoch 485/500\n",
      "22s - loss: 3.4122 - acc: 0.5937\n",
      "Epoch 486/500\n",
      "19s - loss: 3.4081 - acc: 0.5953\n",
      "Epoch 487/500\n",
      "18s - loss: 3.4087 - acc: 0.5952\n",
      "Epoch 488/500\n",
      "18s - loss: 3.4097 - acc: 0.5940\n",
      "Epoch 489/500\n",
      "18s - loss: 3.4086 - acc: 0.5952\n",
      "Epoch 490/500\n",
      "18s - loss: 3.4068 - acc: 0.5959\n",
      "Epoch 491/500\n",
      "19s - loss: 3.4127 - acc: 0.5935\n",
      "Epoch 492/500\n",
      "18s - loss: 3.4101 - acc: 0.5937\n",
      "Epoch 493/500\n",
      "18s - loss: 3.4079 - acc: 0.5943\n",
      "Epoch 494/500\n",
      "18s - loss: 3.4077 - acc: 0.5957\n",
      "Epoch 495/500\n",
      "18s - loss: 3.4105 - acc: 0.5946\n",
      "Epoch 496/500\n",
      "18s - loss: 3.4082 - acc: 0.5954\n",
      "Epoch 497/500\n",
      "18s - loss: 3.4086 - acc: 0.5949\n",
      "Epoch 498/500\n",
      "18s - loss: 3.4057 - acc: 0.5957\n",
      "Epoch 499/500\n",
      "18s - loss: 3.4058 - acc: 0.5951\n",
      "Epoch 500/500\n",
      "19s - loss: 3.4096 - acc: 0.5958\n",
      "Wall time: 2h 39min 44s\n"
     ]
    }
   ],
   "source": [
    "%%time\n",
    "hist = model.fit(X, Y, epochs=500, batch_size=800, verbose=2)"
   ]
  },
  {
   "cell_type": "code",
   "execution_count": 30,
   "metadata": {
    "scrolled": true
   },
   "outputs": [
    {
     "data": {
      "image/png": "[encoded data removed]",
      "text/plain": [
       "<matplotlib.figure.Figure at 0x1e1a45b6320>"
      ]
     },
     "metadata": {},
     "output_type": "display_data"
    }
   ],
   "source": [
    "plt.plot(hist.history['acc'])\n",
    "plt.show()"
   ]
  },
  {
   "cell_type": "code",
   "execution_count": 106,
   "metadata": {},
   "outputs": [
    {
     "ename": "ImportError",
     "evalue": "`save_model` requires h5py.",
     "output_type": "error",
     "traceback": [
      "\u001b[1;31m---------------------------------------------------------------------------\u001b[0m",
      "\u001b[1;31mImportError\u001b[0m                               Traceback (most recent call last)",
      "\u001b[1;32m<ipython-input-106-5c6f1e2dda9a>\u001b[0m in \u001b[0;36m<module>\u001b[1;34m()\u001b[0m\n\u001b[1;32m----> 1\u001b[1;33m \u001b[0mmodel\u001b[0m\u001b[1;33m.\u001b[0m\u001b[0msave\u001b[0m\u001b[1;33m(\u001b[0m\u001b[1;34m\"rnn_text_gen.hdf5\"\u001b[0m\u001b[1;33m)\u001b[0m\u001b[1;33m\u001b[0m\u001b[0m\n\u001b[0m",
      "\u001b[1;32mC:\\Anaconda2\\envs\\py36\\lib\\site-packages\\keras\\engine\\topology.py\u001b[0m in \u001b[0;36msave\u001b[1;34m(self, filepath, overwrite, include_optimizer)\u001b[0m\n\u001b[0;32m   2504\u001b[0m         \"\"\"\n\u001b[0;32m   2505\u001b[0m         \u001b[1;32mfrom\u001b[0m \u001b[1;33m.\u001b[0m\u001b[1;33m.\u001b[0m\u001b[0mmodels\u001b[0m \u001b[1;32mimport\u001b[0m \u001b[0msave_model\u001b[0m\u001b[1;33m\u001b[0m\u001b[0m\n\u001b[1;32m-> 2506\u001b[1;33m         \u001b[0msave_model\u001b[0m\u001b[1;33m(\u001b[0m\u001b[0mself\u001b[0m\u001b[1;33m,\u001b[0m \u001b[0mfilepath\u001b[0m\u001b[1;33m,\u001b[0m \u001b[0moverwrite\u001b[0m\u001b[1;33m,\u001b[0m \u001b[0minclude_optimizer\u001b[0m\u001b[1;33m)\u001b[0m\u001b[1;33m\u001b[0m\u001b[0m\n\u001b[0m\u001b[0;32m   2507\u001b[0m \u001b[1;33m\u001b[0m\u001b[0m\n\u001b[0;32m   2508\u001b[0m     \u001b[1;32mdef\u001b[0m \u001b[0msave_weights\u001b[0m\u001b[1;33m(\u001b[0m\u001b[0mself\u001b[0m\u001b[1;33m,\u001b[0m \u001b[0mfilepath\u001b[0m\u001b[1;33m,\u001b[0m \u001b[0moverwrite\u001b[0m\u001b[1;33m=\u001b[0m\u001b[1;32mTrue\u001b[0m\u001b[1;33m)\u001b[0m\u001b[1;33m:\u001b[0m\u001b[1;33m\u001b[0m\u001b[0m\n",
      "\u001b[1;32mC:\\Anaconda2\\envs\\py36\\lib\\site-packages\\keras\\models.py\u001b[0m in \u001b[0;36msave_model\u001b[1;34m(model, filepath, overwrite, include_optimizer)\u001b[0m\n\u001b[0;32m     53\u001b[0m \u001b[1;33m\u001b[0m\u001b[0m\n\u001b[0;32m     54\u001b[0m     \u001b[1;32mif\u001b[0m \u001b[0mh5py\u001b[0m \u001b[1;32mis\u001b[0m \u001b[1;32mNone\u001b[0m\u001b[1;33m:\u001b[0m\u001b[1;33m\u001b[0m\u001b[0m\n\u001b[1;32m---> 55\u001b[1;33m         \u001b[1;32mraise\u001b[0m \u001b[0mImportError\u001b[0m\u001b[1;33m(\u001b[0m\u001b[1;34m'`save_model` requires h5py.'\u001b[0m\u001b[1;33m)\u001b[0m\u001b[1;33m\u001b[0m\u001b[0m\n\u001b[0m\u001b[0;32m     56\u001b[0m \u001b[1;33m\u001b[0m\u001b[0m\n\u001b[0;32m     57\u001b[0m     \u001b[1;32mdef\u001b[0m \u001b[0mget_json_type\u001b[0m\u001b[1;33m(\u001b[0m\u001b[0mobj\u001b[0m\u001b[1;33m)\u001b[0m\u001b[1;33m:\u001b[0m\u001b[1;33m\u001b[0m\u001b[0m\n",
      "\u001b[1;31mImportError\u001b[0m: `save_model` requires h5py."
     ]
    }
   ],
   "source": [
    "# h5py 설치를 안해놔서 모델 전체 저장 안됨\n",
    "model.save(\"rnn_text_gen.hdf5\")"
   ]
  },
  {
   "cell_type": "code",
   "execution_count": 25,
   "metadata": {
    "collapsed": true
   },
   "outputs": [],
   "source": [
    "# 모델을 json 형식으로 변환\n",
    "json_string = model.to_json()"
   ]
  },
  {
   "cell_type": "code",
   "execution_count": 27,
   "metadata": {},
   "outputs": [],
   "source": [
    "# 모델을 json파일로 저장(weight없이)\n",
    "with open('rnn_test.json', 'w') as f:\n",
    "    json.dump(json_string, f)"
   ]
  },
  {
   "cell_type": "code",
   "execution_count": 112,
   "metadata": {
    "collapsed": true
   },
   "outputs": [],
   "source": [
    "# weights를 numpy array로 저장(.h5형식으로 저장이 안되서)\n",
    "np.save('weights', np.array(model.get_weights()))"
   ]
  },
  {
   "cell_type": "code",
   "execution_count": 100,
   "metadata": {
    "collapsed": true
   },
   "outputs": [],
   "source": [
    "from keras.models import model_from_json"
   ]
  },
  {
   "cell_type": "code",
   "execution_count": 86,
   "metadata": {
    "collapsed": true
   },
   "outputs": [],
   "source": [
    "# 저장한 모델 읽기(No weights)\n",
    "with open('rnn_test.json', 'r') as f:\n",
    "    json_string = json.load(f)"
   ]
  },
  {
   "cell_type": "code",
   "execution_count": 87,
   "metadata": {
    "collapsed": true
   },
   "outputs": [],
   "source": [
    "# json에서 모델 읽기\n",
    "model2 = model_from_json(json_string)"
   ]
  },
  {
   "cell_type": "code",
   "execution_count": 121,
   "metadata": {
    "collapsed": true
   },
   "outputs": [],
   "source": [
    "# numpy array로 저장한 weights를 불러와서 json으로 저장한 모델에 불러오기\n",
    "a = np.load('weights.npy')\n",
    "model2.set_weights(list(a))"
   ]
  },
  {
   "cell_type": "code",
   "execution_count": 43,
   "metadata": {
    "collapsed": true
   },
   "outputs": [],
   "source": [
    "def generate(w, n, seed=None, model=model):\n",
    "    \n",
    "    if seed is not None:\n",
    "        np.random.seed(seed)\n",
    "    \n",
    "    def _predict_word(sent):\n",
    "        x = sequence.pad_sequences([[tokenizer.word_index[w] for w in sent]], maxlen=maxlen)\n",
    "        p = model.predict(x)[0]\n",
    "        logp = np.log(p)\n",
    "        p = np.exp(logp) / np.sum(np.exp(logp))\n",
    "        p = p[1:]\n",
    "        return np.random.choice(list(tokenizer.word_index.keys()), p=p)\n",
    "\n",
    "    sent = [w]\n",
    "    for i in range(n):\n",
    "        w = _predict_word(sent)\n",
    "        sent.append(w)\n",
    "        \n",
    "    return \" \".join(sent)"
   ]
  },
  {
   "cell_type": "markdown",
   "metadata": {},
   "source": [
    "## 문장 생성 테스트(keyword로 시작)\n",
    "\n",
    "### 그냥 모델만 저장했을 때와 numpy array로 저장한 weights를 적용한 모델 비교"
   ]
  },
  {
   "cell_type": "code",
   "execution_count": 123,
   "metadata": {},
   "outputs": [
    {
     "name": "stdout",
     "output_type": "stream",
     "text": [
      "가수 실례하지 미현 귀하\n",
      "가수 현직 시즈오카현 다\n",
      "가수 부잣집 가는 발품\n",
      "가수 중화권 유유 룩\n",
      "가수 능통 성공해 돌아오게\n",
      "가수 총회 요사 콘크리트\n",
      "가수 허무 행보 연맹\n",
      "가수 커피 정한 웨스\n",
      "가수 윙 입게 an\n",
      "가수 없다 써클 마포구\n"
     ]
    }
   ],
   "source": [
    "for i in range(10):\n",
    "    print((generate('가수', 3, model=model3, seed=i)))"
   ]
  },
  {
   "cell_type": "code",
   "execution_count": 122,
   "metadata": {},
   "outputs": [
    {
     "name": "stdout",
     "output_type": "stream",
     "text": [
      "[('가수', 'Noun'), ('보기', 'Noun'), ('좀비', 'Noun'), ('게', 'Noun')]\n",
      "[('가수', 'Noun'), ('물', 'Noun'), ('난', 'Noun'), ('호텔', 'Noun')]\n",
      "[('가수', 'Noun'), ('가게', 'Noun'), ('호텔', 'Noun'), ('을', 'Josa')]\n",
      "[('가수', 'Noun'), ('은닉', 'Noun'), ('마찬가지', 'Noun'), ('않았', 'Verb')]\n",
      "[('가수', 'Noun'), ('근원', 'Noun'), ('호텔', 'Noun'), ('bond', 'Alpha')]\n",
      "[('가수', 'Noun'), ('21', 'Number'), ('라는', 'Josa'), ('이름', 'Noun')]\n",
      "[('가수', 'Noun'), ('평이', 'Noun'), ('한', 'Verb'), ('주민', 'Noun')]\n",
      "[('가수', 'Noun'), ('류경', 'Noun'), ('호텔', 'Noun'), ('을', 'Josa')]\n",
      "[('가수', 'Noun'), ('blog', 'Alpha'), ('빨', 'Noun'), ('린드', 'Noun')]\n",
      "[('가수', 'Noun'), ('호텔', 'Noun'), ('에', 'Josa'), ('배서', 'Noun')]\n"
     ]
    },
    {
     "name": "stderr",
     "output_type": "stream",
     "text": [
      "C:\\Anaconda2\\envs\\py36\\lib\\site-packages\\ipykernel_launcher.py:9: RuntimeWarning: divide by zero encountered in log\n",
      "  if __name__ == '__main__':\n"
     ]
    }
   ],
   "source": [
    "for i in range(10):\n",
    "    print(tw.pos(generate('가수', 3, model=model2, seed=i)))"
   ]
  },
  {
   "cell_type": "code",
   "execution_count": 105,
   "metadata": {},
   "outputs": [
    {
     "name": "stdout",
     "output_type": "stream",
     "text": [
      "가수 보기 좀비 게\n",
      "가수 물 난 호텔\n",
      "가수 가게 호텔 을\n",
      "가수 은닉 마찬가지 않았\n",
      "가수 근원 호텔 bond\n",
      "가수 21 라는 이름\n",
      "가수 평이 한 주민\n",
      "가수 류경 호텔 을\n",
      "가수 blog 빨 린드\n",
      "가수 호텔 에 배서\n"
     ]
    },
    {
     "name": "stderr",
     "output_type": "stream",
     "text": [
      "C:\\Anaconda2\\envs\\py36\\lib\\site-packages\\ipykernel_launcher.py:9: RuntimeWarning: divide by zero encountered in log\n",
      "  if __name__ == '__main__':\n"
     ]
    }
   ],
   "source": [
    "for i in range(10):\n",
    "    print((generate('가수', 3, model=model, seed=i)))"
   ]
  },
  {
   "cell_type": "markdown",
   "metadata": {},
   "source": [
    "- RNN + 형태소 학습 결합하여 자연스러운 문장 예측 성능 향상\n",
    "- 왜 저장한 결과와 다르게 나오는지...??? → weights 저장이 안되서 발생한 문제, 해결함."
   ]
  },
  {
   "cell_type": "code",
   "execution_count": 66,
   "metadata": {},
   "outputs": [],
   "source": [
    "word_list = doc0[9].split(' ')\n",
    "reverse_word_map = dict(map(reversed, tokenizer.word_index.items()))"
   ]
  },
  {
   "cell_type": "code",
   "execution_count": 94,
   "metadata": {},
   "outputs": [
    {
     "data": {
      "text/plain": [
       "'가수 신정환 이 불법 카지노 바 에 있다 가 경찰 에 연행 됨 .'"
      ]
     },
     "execution_count": 94,
     "metadata": {},
     "output_type": "execute_result"
    }
   ],
   "source": [
    "doc0[9]"
   ]
  },
  {
   "cell_type": "code",
   "execution_count": 67,
   "metadata": {},
   "outputs": [
    {
     "data": {
      "text/plain": [
       "13540"
      ]
     },
     "execution_count": 67,
     "metadata": {},
     "output_type": "execute_result"
    }
   ],
   "source": [
    "len(reverse_word_map)"
   ]
  },
  {
   "cell_type": "code",
   "execution_count": 70,
   "metadata": {
    "collapsed": true
   },
   "outputs": [],
   "source": [
    "x = sequence.pad_sequences([[tokenizer.word_index[w] for w in word_list[:i]]], maxlen=maxlen)"
   ]
  },
  {
   "cell_type": "code",
   "execution_count": 81,
   "metadata": {
    "collapsed": true
   },
   "outputs": [],
   "source": [
    "def predict_word(i, n=1, model=model):\n",
    "    x = sequence.pad_sequences([[tokenizer.word_index[w] for w in word_list[:i]]], maxlen=maxlen)\n",
    "    p = model.predict(x)[0]\n",
    "    idx = np.flip(np.argsort(p), 0)\n",
    "    for j in idx[:n]:\n",
    "        print('\"', \" \".join(word_list[:i]), '\"', reverse_word_map[j], \" (p={:4.2f}%)\".format(100 * p[j]))"
   ]
  },
  {
   "cell_type": "code",
   "execution_count": 124,
   "metadata": {},
   "outputs": [
    {
     "name": "stdout",
     "output_type": "stream",
     "text": [
      "\" 가수 신정환 이 불법 \" 카지노  (p=97.24%)\n",
      "\" 가수 신정환 이 불법 \" 도박장  (p=0.92%)\n",
      "\" 가수 신정환 이 불법 \" 호텔  (p=0.30%)\n"
     ]
    }
   ],
   "source": [
    "predict_word(4, n=3, model=model2)"
   ]
  },
  {
   "cell_type": "code",
   "execution_count": 125,
   "metadata": {},
   "outputs": [
    {
     "name": "stdout",
     "output_type": "stream",
     "text": [
      "\" 가수 신정환 이 불법 \" 카지노  (p=97.24%)\n",
      "\" 가수 신정환 이 불법 \" 도박장  (p=0.92%)\n",
      "\" 가수 신정환 이 불법 \" 호텔  (p=0.30%)\n"
     ]
    }
   ],
   "source": [
    "predict_word(4, n=3, model=model)"
   ]
  },
  {
   "cell_type": "markdown",
   "metadata": {},
   "source": [
    "## 추가 학습(중도학습)"
   ]
  },
  {
   "cell_type": "code",
   "execution_count": 129,
   "metadata": {
    "collapsed": true
   },
   "outputs": [],
   "source": [
    "from keras.callbacks import ModelCheckpoint"
   ]
  },
  {
   "cell_type": "code",
   "execution_count": 135,
   "metadata": {
    "scrolled": true
   },
   "outputs": [
    {
     "name": "stdout",
     "output_type": "stream",
     "text": [
      "Epoch 1/30\n",
      "19s - loss: 3.3808 - acc: 0.5985\n",
      "Epoch 2/30\n",
      "19s - loss: 3.3747 - acc: 0.6009\n",
      "Epoch 3/30\n",
      "18s - loss: 3.3795 - acc: 0.5994\n",
      "Epoch 4/30\n",
      "18s - loss: 3.3836 - acc: 0.5984\n",
      "Epoch 5/30\n"
     ]
    },
    {
     "name": "stderr",
     "output_type": "stream",
     "text": [
      "C:\\Anaconda2\\envs\\py36\\lib\\site-packages\\keras\\callbacks.py:405: RuntimeWarning: Can save best model only with val_loss available, skipping.\n",
      "  'skipping.' % (self.monitor), RuntimeWarning)\n"
     ]
    },
    {
     "name": "stdout",
     "output_type": "stream",
     "text": [
      "18s - loss: 3.3813 - acc: 0.5997\n",
      "Epoch 6/30\n",
      "19s - loss: 3.3751 - acc: 0.6007\n",
      "Epoch 7/30\n",
      "19s - loss: 3.3801 - acc: 0.6004\n",
      "Epoch 8/30\n",
      "18s - loss: 3.3816 - acc: 0.5988\n",
      "Epoch 9/30\n",
      "18s - loss: 3.3805 - acc: 0.5989\n",
      "Epoch 10/30\n",
      "18s - loss: 3.3769 - acc: 0.6000\n",
      "Epoch 11/30\n",
      "18s - loss: 3.3771 - acc: 0.5994\n",
      "Epoch 12/30\n",
      "18s - loss: 3.3746 - acc: 0.6002\n",
      "Epoch 13/30\n",
      "19s - loss: 3.3757 - acc: 0.6007\n",
      "Epoch 14/30\n",
      "19s - loss: 3.3778 - acc: 0.5993\n",
      "Epoch 15/30\n",
      "19s - loss: 3.3772 - acc: 0.5988\n",
      "Epoch 16/30\n",
      "19s - loss: 3.3760 - acc: 0.5991\n",
      "Epoch 17/30\n",
      "18s - loss: 3.3776 - acc: 0.5992\n",
      "Epoch 18/30\n",
      "18s - loss: 3.3794 - acc: 0.5989\n",
      "Epoch 19/30\n",
      "18s - loss: 3.3761 - acc: 0.5996\n",
      "Epoch 20/30\n",
      "19s - loss: 3.3777 - acc: 0.6005\n",
      "Epoch 21/30\n",
      "18s - loss: 3.3763 - acc: 0.5999\n",
      "Epoch 22/30\n",
      "19s - loss: 3.3717 - acc: 0.6001\n",
      "Epoch 23/30\n",
      "19s - loss: 3.3776 - acc: 0.5989\n",
      "Epoch 24/30\n",
      "18s - loss: 3.3784 - acc: 0.6002\n",
      "Epoch 25/30\n",
      "18s - loss: 3.3732 - acc: 0.6001\n",
      "Epoch 26/30\n",
      "18s - loss: 3.3756 - acc: 0.6003\n",
      "Epoch 27/30\n",
      "18s - loss: 3.3735 - acc: 0.5997\n",
      "Epoch 28/30\n",
      "18s - loss: 3.3776 - acc: 0.5985\n",
      "Epoch 29/30\n",
      "18s - loss: 3.3736 - acc: 0.6004\n",
      "Epoch 30/30\n",
      "18s - loss: 3.3725 - acc: 0.6005\n",
      "Wall time: 9min 31s\n"
     ]
    }
   ],
   "source": [
    "%%time\n",
    "hist = model.fit(X, Y, epochs=30, verbose=2, batch_size=800, callbacks=[ModelCheckpoint('test', monitor='val_loss', save_best_only=True, save_weights_only=True, period=5)])"
   ]
  },
  {
   "cell_type": "code",
   "execution_count": 146,
   "metadata": {},
   "outputs": [
    {
     "data": {
      "text/plain": [
       "2.5194573"
      ]
     },
     "execution_count": 146,
     "metadata": {},
     "output_type": "execute_result"
    }
   ],
   "source": [
    "(model.get_weights()[0]).max()"
   ]
  },
  {
   "cell_type": "code",
   "execution_count": 153,
   "metadata": {},
   "outputs": [
    {
     "data": {
      "text/plain": [
       "array([[1.82281576, 0.43076903]])"
      ]
     },
     "execution_count": 153,
     "metadata": {},
     "output_type": "execute_result"
    }
   ],
   "source": [
    "np.random.randn(1, 2)"
   ]
  },
  {
   "cell_type": "code",
   "execution_count": 155,
   "metadata": {
    "collapsed": true
   },
   "outputs": [],
   "source": [
    "def mutation(w):\n",
    "    w[0] += 0.01 * (np.random.randn(w[0].shape[0], w[0].shape[1]) * (w[0].max() - w[0].min()) + w[0].min())\n",
    "    w[1] += 0.01 * (np.random.randn(w[1].shape[0], w[1].shape[1]) * (w[1].max() - w[1].min()) + w[1].min())\n",
    "    return w"
   ]
  },
  {
   "cell_type": "code",
   "execution_count": 156,
   "metadata": {},
   "outputs": [
    {
     "data": {
      "text/plain": [
       "[array([[ 0.7351876 , -0.43644047, -0.36678466, ..., -0.01549795,\n",
       "         -0.06438367, -0.4471951 ],\n",
       "        [ 0.3025028 , -0.6211122 , -1.1915572 , ...,  0.01153985,\n",
       "          0.8751277 , -0.10665391],\n",
       "        [ 0.63592654,  0.4260004 , -0.19596328, ..., -0.68603945,\n",
       "         -0.8406526 , -0.20035352],\n",
       "        ...,\n",
       "        [-0.432057  , -0.57735807,  0.27669528, ..., -0.55574524,\n",
       "         -0.34016576,  0.3945297 ],\n",
       "        [-0.13053454, -0.63100976,  0.28007406, ..., -0.11714929,\n",
       "         -0.77756345, -0.23766026],\n",
       "        [-0.62980527,  1.021756  ,  0.43972573, ..., -0.6539217 ,\n",
       "          0.27806056, -0.08430402]], dtype=float32),\n",
       " array([[ 0.24221294, -1.108445  , -2.5021355 , ..., -2.547346  ,\n",
       "         -0.88051176, -1.8978034 ],\n",
       "        [-2.3554056 , -0.48075435, -1.5774957 , ...,  0.74631196,\n",
       "          0.7555562 , -0.3369536 ],\n",
       "        [-1.7833067 , -0.15871213, -1.0864877 , ..., -1.7521857 ,\n",
       "         -2.7291863 , -0.1587568 ],\n",
       "        ...,\n",
       "        [-0.62557185, -0.68355954, -1.1614639 , ..., -1.1616682 ,\n",
       "         -0.6585861 ,  0.5177324 ],\n",
       "        [-0.53331774, -1.1578956 , -0.16158545, ...,  0.8868447 ,\n",
       "          0.6817878 , -1.1097329 ],\n",
       "        [-1.0233626 , -1.7164361 , -0.8832537 , ..., -1.7243639 ,\n",
       "         -0.3271227 ,  0.2164475 ]], dtype=float32),\n",
       " array([[-0.621826  ,  0.02162961,  0.85339165, ...,  0.33877188,\n",
       "          0.06701902, -0.2707194 ],\n",
       "        [-0.11906292,  0.25655437,  0.10333441, ..., -0.31944236,\n",
       "          0.30843917,  0.24385406],\n",
       "        [ 0.02237774, -0.06553384,  0.03820032, ..., -0.14482342,\n",
       "          0.72964287,  0.67017823],\n",
       "        ...,\n",
       "        [-0.13847058, -0.4927152 , -0.1892656 , ...,  0.21208608,\n",
       "         -0.20044433, -0.99483645],\n",
       "        [ 2.7698581 ,  1.4738852 ,  1.0510237 , ...,  1.0728818 ,\n",
       "         -0.47707352,  1.1655141 ],\n",
       "        [-0.03350224,  0.6780542 ,  0.09716658, ..., -0.3517524 ,\n",
       "         -0.0401266 ,  0.16646956]], dtype=float32),\n",
       " array([ 1.95374179e+00,  2.39953065e+00,  2.33648086e+00,  2.25481248e+00,\n",
       "         3.11575341e+00,  1.53669703e+00,  2.91214204e+00,  2.13248396e+00,\n",
       "         1.86224771e+00,  2.34303761e+00,  2.42575860e+00,  2.58573890e+00,\n",
       "         1.96315622e+00,  2.17362928e+00,  2.03115654e+00,  2.17339635e+00,\n",
       "         2.71631503e+00, -2.25105691e+00,  2.85430241e+00,  1.88105607e+00,\n",
       "         3.12424183e+00,  2.10823584e+00,  2.51905680e+00,  2.66133642e+00,\n",
       "         2.09459758e+00,  1.66524768e+00,  2.42382455e+00,  1.70300782e+00,\n",
       "         2.82679057e+00,  2.63586235e+00,  2.50971770e+00,  1.98625982e+00,\n",
       "         2.54389095e+00,  2.30826068e+00,  3.14942980e+00,  1.44108462e+00,\n",
       "         3.23179293e+00,  2.31337309e+00,  1.52511728e+00,  2.73898768e+00,\n",
       "         2.44624615e+00,  1.41845286e+00,  2.14766860e+00,  3.17016459e+00,\n",
       "         3.08910275e+00,  3.48292565e+00,  2.46546173e+00,  2.48793459e+00,\n",
       "         2.22684479e+00,  2.72461033e+00,  2.06450796e+00,  2.13953400e+00,\n",
       "         2.12430453e+00,  2.94735527e+00,  2.28645587e+00,  1.90406406e+00,\n",
       "         1.74096441e+00,  3.60700870e+00,  2.19769382e+00,  1.85213149e+00,\n",
       "         2.02946758e+00,  1.78458595e+00,  2.19255900e+00,  2.00922656e+00,\n",
       "         2.49460697e+00,  2.15837336e+00,  9.57783818e-01,  3.00047350e+00,\n",
       "         3.13331199e+00,  2.03668594e+00,  2.64903522e+00,  2.07253909e+00,\n",
       "         3.41862369e+00,  2.79125500e+00,  3.17501736e+00,  2.00116277e+00,\n",
       "         1.93173325e+00,  2.80604982e+00,  2.40925288e+00,  2.37308955e+00,\n",
       "         1.91771579e+00,  2.03107548e+00,  2.56854415e+00,  2.49334908e+00,\n",
       "         1.72347760e+00,  2.51447368e+00,  2.59132624e+00,  2.76828051e+00,\n",
       "         2.27809453e+00,  2.60751605e+00,  2.07746959e+00,  1.62781942e+00,\n",
       "         2.01784468e+00,  2.33172584e+00,  2.72873068e+00,  2.69349337e+00,\n",
       "         2.06816125e+00,  2.61427760e+00, -2.36678958e+00,  2.85892320e+00,\n",
       "         1.23627353e+00,  1.07713675e+00,  3.76530886e-01,  7.13636339e-01,\n",
       "        -1.45826206e-01,  6.27575755e-01,  9.94852364e-01,  1.18004215e+00,\n",
       "         1.51642776e+00,  7.42797315e-01,  7.78162956e-01,  4.03750539e-01,\n",
       "         2.72676110e-01,  5.07846475e-01,  1.02234685e+00,  1.11760283e+00,\n",
       "         1.14061975e+00, -5.95823452e-02,  7.12506056e-01,  8.43903840e-01,\n",
       "         6.05051279e-01,  1.28821695e+00,  8.24705139e-02,  1.11630607e+00,\n",
       "         6.70273975e-02,  9.11069274e-01,  7.88393378e-01,  7.82861769e-01,\n",
       "         1.09497046e+00,  1.48468828e+00,  1.24467766e+00,  9.20702934e-01,\n",
       "         6.91843688e-01,  7.49282479e-01,  8.05325881e-02,  5.73557377e-01,\n",
       "         7.02601850e-01,  9.90850449e-01,  7.45858669e-01,  1.01716256e+00,\n",
       "         6.26960814e-01,  1.29777074e-01,  6.27854288e-01,  8.26373696e-01,\n",
       "         7.02235401e-01,  8.60206783e-01,  9.35165882e-01, -7.76950791e-02,\n",
       "         5.01304567e-01,  1.42564452e+00,  6.12214446e-01,  1.46511686e+00,\n",
       "         6.02831542e-01,  3.67643237e-01,  7.29118168e-01,  9.41629112e-01,\n",
       "         1.14935815e+00,  4.83320504e-01,  1.04668653e+00,  1.12835884e+00,\n",
       "         1.09904480e+00,  1.24961233e+00,  1.88387305e-01,  1.36315012e+00,\n",
       "         1.39339709e+00,  1.45000434e+00,  1.36102629e+00,  7.82139540e-01,\n",
       "         1.28151953e-01,  6.16703749e-01,  5.77690423e-01,  1.23422348e+00,\n",
       "        -4.89563674e-01,  2.37882789e-02,  4.06363100e-01,  1.50987375e+00,\n",
       "         8.55520606e-01,  7.39635289e-01,  8.86713207e-01,  8.04112375e-01,\n",
       "         6.95763946e-01,  1.72738552e+00,  7.92848527e-01,  6.60004497e-01,\n",
       "         1.25864100e+00,  8.79314184e-01,  4.82697725e-01,  1.00807559e+00,\n",
       "         1.35269594e+00,  1.07125759e+00,  6.93457544e-01,  5.16839683e-01,\n",
       "         7.81470776e-01,  2.27749422e-01,  5.96708298e-01,  8.78711104e-01,\n",
       "         1.58930528e+00,  5.10917425e-01, -1.23849191e-01,  1.14364290e+00,\n",
       "         3.03778470e-01,  1.92547619e-01, -1.44955978e-01, -5.74865460e-01,\n",
       "        -4.71600115e-01,  9.26612675e-01,  3.54187697e-01,  1.89590648e-01,\n",
       "         7.31041968e-01,  7.67067790e-01, -2.93661028e-01, -6.59524679e-01,\n",
       "        -2.61448801e-01,  7.00514987e-02, -2.31123880e-01, -1.12177804e-01,\n",
       "        -1.88442037e-01, -4.21255052e-01,  2.17969730e-01, -8.53396237e-01,\n",
       "         7.24546984e-02,  4.91210610e-01, -2.03555986e-01,  1.80497035e-01,\n",
       "         3.43529016e-01,  4.34573770e-01,  3.69494766e-01, -2.83554703e-01,\n",
       "        -9.55624580e-01, -7.42739022e-01, -1.38642132e-01, -1.23416387e-01,\n",
       "        -2.58999258e-01, -2.86316723e-01, -1.49331748e-01, -2.46208534e-02,\n",
       "        -4.70590323e-01, -8.10984135e-01,  3.60593982e-02,  4.52420682e-01,\n",
       "         7.88261235e-01, -6.39934003e-01,  5.41592062e-01,  5.78794815e-02,\n",
       "        -2.23637193e-01,  2.20135331e-01,  3.75563204e-01, -8.82362947e-02,\n",
       "         1.42529324e-01,  1.21433544e+00,  1.97588593e-01, -4.29526776e-01,\n",
       "         4.30352598e-01,  5.56071065e-02,  1.19910136e-01, -3.41505297e-02,\n",
       "         1.02659881e+00, -4.30010647e-01, -5.94204590e-02, -2.40723923e-01,\n",
       "        -4.59716499e-01, -1.66007549e-01, -4.84100021e-02, -5.13086170e-02,\n",
       "        -1.03744142e-01, -5.75941652e-02, -4.41714495e-01,  9.12469864e-01,\n",
       "        -4.04688507e-01,  6.63532913e-01,  6.01220012e-01,  5.24853766e-01,\n",
       "         2.37281144e-01, -5.55592537e-01, -2.11638048e-01,  8.06630552e-02,\n",
       "         1.28943369e-01, -1.03800344e+00,  5.35639465e-01,  6.88150585e-01,\n",
       "        -1.39842212e-01, -5.07769346e-01,  8.36682916e-02,  5.75379491e-01,\n",
       "         6.35857642e-01, -3.96213442e-01, -4.24463481e-01, -2.93050766e-01,\n",
       "         8.33920669e-03, -6.14835008e-04, -7.70881355e-01,  5.26122153e-02,\n",
       "        -2.58261561e-01, -4.78605717e-01,  1.86369538e-01,  1.01860203e-01,\n",
       "         9.11252797e-01,  2.83846334e-02, -2.77535766e-01, -2.37338796e-01,\n",
       "         6.82037771e-01,  2.15914083e+00,  1.97864318e+00,  1.85905010e-01,\n",
       "        -4.62003440e-01,  1.04815626e+00,  2.14995456e+00,  1.71902800e+00,\n",
       "        -4.17442657e-02,  1.52460670e+00,  2.05890608e+00,  2.43406391e+00,\n",
       "         4.12580371e-01, -9.30516899e-01,  1.49345100e+00,  1.87405086e+00,\n",
       "         1.69469655e+00, -5.40418911e+00,  1.75049758e+00,  2.08653522e+00,\n",
       "         2.53250599e+00,  1.51961529e+00,  1.26595473e+00,  1.34006691e+00,\n",
       "        -1.76813519e+00,  1.48683727e+00,  1.67567599e+00,  3.92245203e-02,\n",
       "        -9.07023609e-01,  1.93187284e+00,  1.71484435e+00,  1.01583111e+00,\n",
       "         1.17886424e+00,  1.57676840e+00,  1.53907025e+00,  7.02011287e-01,\n",
       "         2.24255824e+00, -9.71224308e-01,  5.41012824e-01,  1.90207016e+00,\n",
       "         1.86333418e+00,  1.12624049e+00,  1.33832335e+00,  1.58294713e+00,\n",
       "         1.43913102e+00,  1.16221714e+00,  1.23263907e+00,  1.21700585e+00,\n",
       "         1.13015091e+00,  6.01648211e-01,  1.52640569e+00,  1.61951232e+00,\n",
       "        -1.78833202e-01,  1.35026824e+00,  2.09337687e+00,  2.14627862e-01,\n",
       "         5.70630372e-01,  7.93976545e-01,  1.91906083e+00,  1.29264879e+00,\n",
       "        -4.02220432e-03,  4.33706969e-01,  2.27476978e+00,  1.25193191e+00,\n",
       "         1.28714573e+00,  3.16491991e-01, -9.99448597e-02,  1.87317955e+00,\n",
       "         2.12917805e+00,  4.16787684e-01,  2.17886376e+00,  2.23310971e+00,\n",
       "         5.81472397e-01,  5.56710839e-01,  1.09778202e+00,  7.26386666e-01,\n",
       "         1.43765271e+00,  1.02996111e+00,  9.92623687e-01,  2.15234852e+00,\n",
       "         1.59043586e+00,  9.61477220e-01,  1.55275241e-01,  1.68664050e+00,\n",
       "         2.05716181e+00,  2.83123589e+00,  1.33336854e+00,  2.03477764e+00,\n",
       "         1.27532125e+00,  1.21613860e+00, -1.51339638e+00,  9.47815418e-01,\n",
       "         9.91446376e-01,  1.74372995e+00,  8.69113445e-01,  1.78879416e+00,\n",
       "         1.19491661e+00,  1.44713473e+00, -5.32104111e+00,  1.77922010e+00],\n",
       "       dtype=float32),\n",
       " array([[  0.75824237,   1.2283466 ,   0.6486083 , ...,   0.79832125,\n",
       "           0.79868317,   0.79493976],\n",
       "        [ -0.24508037,  -0.37225696,  -0.4459986 , ...,  -0.18635093,\n",
       "          -0.19021285,  -0.18800405],\n",
       "        [  0.6983302 ,   0.49266618,   0.7446426 , ...,   0.7640523 ,\n",
       "           0.76952446,   0.7703893 ],\n",
       "        ...,\n",
       "        [  1.3015757 ,   1.0716404 ,   1.1532625 , ...,   1.2768271 ,\n",
       "           1.2771053 ,   1.2763112 ],\n",
       "        [ -8.008076  ,  -9.49591   ,  -9.524039  , ..., -37.945206  ,\n",
       "         -25.590227  , -37.632     ],\n",
       "        [  0.5319479 ,   0.3772617 ,   0.83288723, ...,   0.5290622 ,\n",
       "           0.5304287 ,   0.5388009 ]], dtype=float32),\n",
       " array([-34.42119 , -22.61356 , -25.207954, ..., -26.708902, -26.878218,\n",
       "        -26.863247], dtype=float32)]"
      ]
     },
     "execution_count": 156,
     "metadata": {},
     "output_type": "execute_result"
    }
   ],
   "source": [
    "mutation(model.get_weights())"
   ]
  },
  {
   "cell_type": "code",
   "execution_count": 157,
   "metadata": {
    "scrolled": true
   },
   "outputs": [
    {
     "name": "stdout",
     "output_type": "stream",
     "text": [
      "Epoch 1/30\n",
      "19s - loss: 9.8345 - acc: 0.0173\n",
      "Epoch 2/30\n",
      "18s - loss: 8.5956 - acc: 0.0297\n",
      "Epoch 3/30\n",
      "19s - loss: 8.1221 - acc: 0.0404\n",
      "Epoch 4/30\n",
      "18s - loss: 7.7944 - acc: 0.0521\n",
      "Epoch 5/30\n"
     ]
    },
    {
     "name": "stderr",
     "output_type": "stream",
     "text": [
      "C:\\Anaconda2\\envs\\py36\\lib\\site-packages\\keras\\callbacks.py:405: RuntimeWarning: Can save best model only with val_loss available, skipping.\n",
      "  'skipping.' % (self.monitor), RuntimeWarning)\n"
     ]
    },
    {
     "name": "stdout",
     "output_type": "stream",
     "text": [
      "18s - loss: 7.5744 - acc: 0.0649\n",
      "Epoch 6/30\n"
     ]
    },
    {
     "ename": "KeyboardInterrupt",
     "evalue": "",
     "output_type": "error",
     "traceback": [
      "\u001b[1;31m---------------------------------------------------------------------------\u001b[0m",
      "\u001b[1;31mKeyboardInterrupt\u001b[0m                         Traceback (most recent call last)",
      "\u001b[1;32m<timed exec>\u001b[0m in \u001b[0;36m<module>\u001b[1;34m()\u001b[0m\n",
      "\u001b[1;32mC:\\Anaconda2\\envs\\py36\\lib\\site-packages\\keras\\models.py\u001b[0m in \u001b[0;36mfit\u001b[1;34m(self, x, y, batch_size, epochs, verbose, callbacks, validation_split, validation_data, shuffle, class_weight, sample_weight, initial_epoch, **kwargs)\u001b[0m\n\u001b[0;32m    861\u001b[0m                               \u001b[0mclass_weight\u001b[0m\u001b[1;33m=\u001b[0m\u001b[0mclass_weight\u001b[0m\u001b[1;33m,\u001b[0m\u001b[1;33m\u001b[0m\u001b[0m\n\u001b[0;32m    862\u001b[0m                               \u001b[0msample_weight\u001b[0m\u001b[1;33m=\u001b[0m\u001b[0msample_weight\u001b[0m\u001b[1;33m,\u001b[0m\u001b[1;33m\u001b[0m\u001b[0m\n\u001b[1;32m--> 863\u001b[1;33m                               initial_epoch=initial_epoch)\n\u001b[0m\u001b[0;32m    864\u001b[0m \u001b[1;33m\u001b[0m\u001b[0m\n\u001b[0;32m    865\u001b[0m     def evaluate(self, x, y, batch_size=32, verbose=1,\n",
      "\u001b[1;32mC:\\Anaconda2\\envs\\py36\\lib\\site-packages\\keras\\engine\\training.py\u001b[0m in \u001b[0;36mfit\u001b[1;34m(self, x, y, batch_size, epochs, verbose, callbacks, validation_split, validation_data, shuffle, class_weight, sample_weight, initial_epoch, **kwargs)\u001b[0m\n\u001b[0;32m   1428\u001b[0m                               \u001b[0mval_f\u001b[0m\u001b[1;33m=\u001b[0m\u001b[0mval_f\u001b[0m\u001b[1;33m,\u001b[0m \u001b[0mval_ins\u001b[0m\u001b[1;33m=\u001b[0m\u001b[0mval_ins\u001b[0m\u001b[1;33m,\u001b[0m \u001b[0mshuffle\u001b[0m\u001b[1;33m=\u001b[0m\u001b[0mshuffle\u001b[0m\u001b[1;33m,\u001b[0m\u001b[1;33m\u001b[0m\u001b[0m\n\u001b[0;32m   1429\u001b[0m                               \u001b[0mcallback_metrics\u001b[0m\u001b[1;33m=\u001b[0m\u001b[0mcallback_metrics\u001b[0m\u001b[1;33m,\u001b[0m\u001b[1;33m\u001b[0m\u001b[0m\n\u001b[1;32m-> 1430\u001b[1;33m                               initial_epoch=initial_epoch)\n\u001b[0m\u001b[0;32m   1431\u001b[0m \u001b[1;33m\u001b[0m\u001b[0m\n\u001b[0;32m   1432\u001b[0m     \u001b[1;32mdef\u001b[0m \u001b[0mevaluate\u001b[0m\u001b[1;33m(\u001b[0m\u001b[0mself\u001b[0m\u001b[1;33m,\u001b[0m \u001b[0mx\u001b[0m\u001b[1;33m,\u001b[0m \u001b[0my\u001b[0m\u001b[1;33m,\u001b[0m \u001b[0mbatch_size\u001b[0m\u001b[1;33m=\u001b[0m\u001b[1;36m32\u001b[0m\u001b[1;33m,\u001b[0m \u001b[0mverbose\u001b[0m\u001b[1;33m=\u001b[0m\u001b[1;36m1\u001b[0m\u001b[1;33m,\u001b[0m \u001b[0msample_weight\u001b[0m\u001b[1;33m=\u001b[0m\u001b[1;32mNone\u001b[0m\u001b[1;33m)\u001b[0m\u001b[1;33m:\u001b[0m\u001b[1;33m\u001b[0m\u001b[0m\n",
      "\u001b[1;32mC:\\Anaconda2\\envs\\py36\\lib\\site-packages\\keras\\engine\\training.py\u001b[0m in \u001b[0;36m_fit_loop\u001b[1;34m(self, f, ins, out_labels, batch_size, epochs, verbose, callbacks, val_f, val_ins, shuffle, callback_metrics, initial_epoch)\u001b[0m\n\u001b[0;32m   1077\u001b[0m                 \u001b[0mbatch_logs\u001b[0m\u001b[1;33m[\u001b[0m\u001b[1;34m'size'\u001b[0m\u001b[1;33m]\u001b[0m \u001b[1;33m=\u001b[0m \u001b[0mlen\u001b[0m\u001b[1;33m(\u001b[0m\u001b[0mbatch_ids\u001b[0m\u001b[1;33m)\u001b[0m\u001b[1;33m\u001b[0m\u001b[0m\n\u001b[0;32m   1078\u001b[0m                 \u001b[0mcallbacks\u001b[0m\u001b[1;33m.\u001b[0m\u001b[0mon_batch_begin\u001b[0m\u001b[1;33m(\u001b[0m\u001b[0mbatch_index\u001b[0m\u001b[1;33m,\u001b[0m \u001b[0mbatch_logs\u001b[0m\u001b[1;33m)\u001b[0m\u001b[1;33m\u001b[0m\u001b[0m\n\u001b[1;32m-> 1079\u001b[1;33m                 \u001b[0mouts\u001b[0m \u001b[1;33m=\u001b[0m \u001b[0mf\u001b[0m\u001b[1;33m(\u001b[0m\u001b[0mins_batch\u001b[0m\u001b[1;33m)\u001b[0m\u001b[1;33m\u001b[0m\u001b[0m\n\u001b[0m\u001b[0;32m   1080\u001b[0m                 \u001b[1;32mif\u001b[0m \u001b[1;32mnot\u001b[0m \u001b[0misinstance\u001b[0m\u001b[1;33m(\u001b[0m\u001b[0mouts\u001b[0m\u001b[1;33m,\u001b[0m \u001b[0mlist\u001b[0m\u001b[1;33m)\u001b[0m\u001b[1;33m:\u001b[0m\u001b[1;33m\u001b[0m\u001b[0m\n\u001b[0;32m   1081\u001b[0m                     \u001b[0mouts\u001b[0m \u001b[1;33m=\u001b[0m \u001b[1;33m[\u001b[0m\u001b[0mouts\u001b[0m\u001b[1;33m]\u001b[0m\u001b[1;33m\u001b[0m\u001b[0m\n",
      "\u001b[1;32mC:\\Anaconda2\\envs\\py36\\lib\\site-packages\\keras\\backend\\tensorflow_backend.py\u001b[0m in \u001b[0;36m__call__\u001b[1;34m(self, inputs)\u001b[0m\n\u001b[0;32m   2266\u001b[0m         updated = session.run(self.outputs + [self.updates_op],\n\u001b[0;32m   2267\u001b[0m                               \u001b[0mfeed_dict\u001b[0m\u001b[1;33m=\u001b[0m\u001b[0mfeed_dict\u001b[0m\u001b[1;33m,\u001b[0m\u001b[1;33m\u001b[0m\u001b[0m\n\u001b[1;32m-> 2268\u001b[1;33m                               **self.session_kwargs)\n\u001b[0m\u001b[0;32m   2269\u001b[0m         \u001b[1;32mreturn\u001b[0m \u001b[0mupdated\u001b[0m\u001b[1;33m[\u001b[0m\u001b[1;33m:\u001b[0m\u001b[0mlen\u001b[0m\u001b[1;33m(\u001b[0m\u001b[0mself\u001b[0m\u001b[1;33m.\u001b[0m\u001b[0moutputs\u001b[0m\u001b[1;33m)\u001b[0m\u001b[1;33m]\u001b[0m\u001b[1;33m\u001b[0m\u001b[0m\n\u001b[0;32m   2270\u001b[0m \u001b[1;33m\u001b[0m\u001b[0m\n",
      "\u001b[1;32mC:\\Anaconda2\\envs\\py36\\lib\\site-packages\\tensorflow\\python\\client\\session.py\u001b[0m in \u001b[0;36mrun\u001b[1;34m(self, fetches, feed_dict, options, run_metadata)\u001b[0m\n\u001b[0;32m    776\u001b[0m     \u001b[1;32mtry\u001b[0m\u001b[1;33m:\u001b[0m\u001b[1;33m\u001b[0m\u001b[0m\n\u001b[0;32m    777\u001b[0m       result = self._run(None, fetches, feed_dict, options_ptr,\n\u001b[1;32m--> 778\u001b[1;33m                          run_metadata_ptr)\n\u001b[0m\u001b[0;32m    779\u001b[0m       \u001b[1;32mif\u001b[0m \u001b[0mrun_metadata\u001b[0m\u001b[1;33m:\u001b[0m\u001b[1;33m\u001b[0m\u001b[0m\n\u001b[0;32m    780\u001b[0m         \u001b[0mproto_data\u001b[0m \u001b[1;33m=\u001b[0m \u001b[0mtf_session\u001b[0m\u001b[1;33m.\u001b[0m\u001b[0mTF_GetBuffer\u001b[0m\u001b[1;33m(\u001b[0m\u001b[0mrun_metadata_ptr\u001b[0m\u001b[1;33m)\u001b[0m\u001b[1;33m\u001b[0m\u001b[0m\n",
      "\u001b[1;32mC:\\Anaconda2\\envs\\py36\\lib\\site-packages\\tensorflow\\python\\client\\session.py\u001b[0m in \u001b[0;36m_run\u001b[1;34m(self, handle, fetches, feed_dict, options, run_metadata)\u001b[0m\n\u001b[0;32m    980\u001b[0m     \u001b[1;32mif\u001b[0m \u001b[0mfinal_fetches\u001b[0m \u001b[1;32mor\u001b[0m \u001b[0mfinal_targets\u001b[0m\u001b[1;33m:\u001b[0m\u001b[1;33m\u001b[0m\u001b[0m\n\u001b[0;32m    981\u001b[0m       results = self._do_run(handle, final_targets, final_fetches,\n\u001b[1;32m--> 982\u001b[1;33m                              feed_dict_string, options, run_metadata)\n\u001b[0m\u001b[0;32m    983\u001b[0m     \u001b[1;32melse\u001b[0m\u001b[1;33m:\u001b[0m\u001b[1;33m\u001b[0m\u001b[0m\n\u001b[0;32m    984\u001b[0m       \u001b[0mresults\u001b[0m \u001b[1;33m=\u001b[0m \u001b[1;33m[\u001b[0m\u001b[1;33m]\u001b[0m\u001b[1;33m\u001b[0m\u001b[0m\n",
      "\u001b[1;32mC:\\Anaconda2\\envs\\py36\\lib\\site-packages\\tensorflow\\python\\client\\session.py\u001b[0m in \u001b[0;36m_do_run\u001b[1;34m(self, handle, target_list, fetch_list, feed_dict, options, run_metadata)\u001b[0m\n\u001b[0;32m   1030\u001b[0m     \u001b[1;32mif\u001b[0m \u001b[0mhandle\u001b[0m \u001b[1;32mis\u001b[0m \u001b[1;32mNone\u001b[0m\u001b[1;33m:\u001b[0m\u001b[1;33m\u001b[0m\u001b[0m\n\u001b[0;32m   1031\u001b[0m       return self._do_call(_run_fn, self._session, feed_dict, fetch_list,\n\u001b[1;32m-> 1032\u001b[1;33m                            target_list, options, run_metadata)\n\u001b[0m\u001b[0;32m   1033\u001b[0m     \u001b[1;32melse\u001b[0m\u001b[1;33m:\u001b[0m\u001b[1;33m\u001b[0m\u001b[0m\n\u001b[0;32m   1034\u001b[0m       return self._do_call(_prun_fn, self._session, handle, feed_dict,\n",
      "\u001b[1;32mC:\\Anaconda2\\envs\\py36\\lib\\site-packages\\tensorflow\\python\\client\\session.py\u001b[0m in \u001b[0;36m_do_call\u001b[1;34m(self, fn, *args)\u001b[0m\n\u001b[0;32m   1037\u001b[0m   \u001b[1;32mdef\u001b[0m \u001b[0m_do_call\u001b[0m\u001b[1;33m(\u001b[0m\u001b[0mself\u001b[0m\u001b[1;33m,\u001b[0m \u001b[0mfn\u001b[0m\u001b[1;33m,\u001b[0m \u001b[1;33m*\u001b[0m\u001b[0margs\u001b[0m\u001b[1;33m)\u001b[0m\u001b[1;33m:\u001b[0m\u001b[1;33m\u001b[0m\u001b[0m\n\u001b[0;32m   1038\u001b[0m     \u001b[1;32mtry\u001b[0m\u001b[1;33m:\u001b[0m\u001b[1;33m\u001b[0m\u001b[0m\n\u001b[1;32m-> 1039\u001b[1;33m       \u001b[1;32mreturn\u001b[0m \u001b[0mfn\u001b[0m\u001b[1;33m(\u001b[0m\u001b[1;33m*\u001b[0m\u001b[0margs\u001b[0m\u001b[1;33m)\u001b[0m\u001b[1;33m\u001b[0m\u001b[0m\n\u001b[0m\u001b[0;32m   1040\u001b[0m     \u001b[1;32mexcept\u001b[0m \u001b[0merrors\u001b[0m\u001b[1;33m.\u001b[0m\u001b[0mOpError\u001b[0m \u001b[1;32mas\u001b[0m \u001b[0me\u001b[0m\u001b[1;33m:\u001b[0m\u001b[1;33m\u001b[0m\u001b[0m\n\u001b[0;32m   1041\u001b[0m       \u001b[0mmessage\u001b[0m \u001b[1;33m=\u001b[0m \u001b[0mcompat\u001b[0m\u001b[1;33m.\u001b[0m\u001b[0mas_text\u001b[0m\u001b[1;33m(\u001b[0m\u001b[0me\u001b[0m\u001b[1;33m.\u001b[0m\u001b[0mmessage\u001b[0m\u001b[1;33m)\u001b[0m\u001b[1;33m\u001b[0m\u001b[0m\n",
      "\u001b[1;32mC:\\Anaconda2\\envs\\py36\\lib\\site-packages\\tensorflow\\python\\client\\session.py\u001b[0m in \u001b[0;36m_run_fn\u001b[1;34m(session, feed_dict, fetch_list, target_list, options, run_metadata)\u001b[0m\n\u001b[0;32m   1019\u001b[0m         return tf_session.TF_Run(session, options,\n\u001b[0;32m   1020\u001b[0m                                  \u001b[0mfeed_dict\u001b[0m\u001b[1;33m,\u001b[0m \u001b[0mfetch_list\u001b[0m\u001b[1;33m,\u001b[0m \u001b[0mtarget_list\u001b[0m\u001b[1;33m,\u001b[0m\u001b[1;33m\u001b[0m\u001b[0m\n\u001b[1;32m-> 1021\u001b[1;33m                                  status, run_metadata)\n\u001b[0m\u001b[0;32m   1022\u001b[0m \u001b[1;33m\u001b[0m\u001b[0m\n\u001b[0;32m   1023\u001b[0m     \u001b[1;32mdef\u001b[0m \u001b[0m_prun_fn\u001b[0m\u001b[1;33m(\u001b[0m\u001b[0msession\u001b[0m\u001b[1;33m,\u001b[0m \u001b[0mhandle\u001b[0m\u001b[1;33m,\u001b[0m \u001b[0mfeed_dict\u001b[0m\u001b[1;33m,\u001b[0m \u001b[0mfetch_list\u001b[0m\u001b[1;33m)\u001b[0m\u001b[1;33m:\u001b[0m\u001b[1;33m\u001b[0m\u001b[0m\n",
      "\u001b[1;31mKeyboardInterrupt\u001b[0m: "
     ]
    }
   ],
   "source": [
    "%%time\n",
    "b = model.get_weights()\n",
    "b = mutation(b)\n",
    "model.set_weights(b)\n",
    "hist = model.fit(X, Y, epochs=30, verbose=2, batch_size=800, callbacks=[ModelCheckpoint('test', monitor='val_loss', save_best_only=True, save_weights_only=True, period=5)])"
   ]
  },
  {
   "cell_type": "code",
   "execution_count": 136,
   "metadata": {
    "scrolled": true
   },
   "outputs": [
    {
     "data": {
      "image/png": "[encoded data removed]",
      "text/plain": [
       "<matplotlib.figure.Figure at 0x1e1b7766e10>"
      ]
     },
     "metadata": {},
     "output_type": "display_data"
    }
   ],
   "source": [
    "plt.plot(hist.history['acc'])\n",
    "plt.show()"
   ]
  },
  {
   "cell_type": "code",
   "execution_count": 137,
   "metadata": {
    "collapsed": true
   },
   "outputs": [],
   "source": [
    "a = model.get_weights()\n",
    "np.save('weights2', np.array(a))"
   ]
  },
  {
   "cell_type": "code",
   "execution_count": 138,
   "metadata": {},
   "outputs": [
    {
     "name": "stdout",
     "output_type": "stream",
     "text": [
      "가수 번호 가 추가되 었 지만 무료 다르 호텔 감소한 다\n",
      "가수 형태 도 호텔 방 을 로 하고 있 범죄 주거\n",
      "가수 가게 호텔 을 지는 하기 도 남자 는 http 출입\n",
      "가수 코엑스 한 며 가 리스 호텔 로 버스 개 음\n",
      "가수 총리 가 쓴 헬 머신 에 부담하겠 을 전부 바깥\n",
      "가수 2016 인 출구 서머 둔 전망대 에 고속 인수 호텔\n",
      "가수 판다 가 만원 이 월 롯데 호텔 에 대한민국 전\n",
      "가수 다른 호텔 이 침입 한 테러리스트 장식 이 테마 파크\n",
      "가수 렉스 전개하고 있다 고 숙박 이 난 어머니 는 수도\n",
      "가수 호텔 이 6549 에서 못 가격 있다 는 후 를\n"
     ]
    }
   ],
   "source": [
    "for i in range(10):\n",
    "    print(generate('가수', 10, seed=i, model=model))"
   ]
  },
  {
   "cell_type": "markdown",
   "metadata": {},
   "source": [
    "# 국문 example"
   ]
  },
  {
   "cell_type": "code",
   "execution_count": null,
   "metadata": {
    "collapsed": true
   },
   "outputs": [],
   "source": [
    "# 국문\n",
    "def korean_most_common(c, n, pos=None):\n",
    "    bg = bigram\n",
    "    if pos is None:\n",
    "        return bigram[tokenize(c)[0]].most_common(n)\n",
    "    else:\n",
    "        return bigram[\"/\".join([c, pos])].most_common(n)\n",
    "    \n",
    "def korean_generate_sentence(seed=None, debug=False):\n",
    "    if seed is not None:\n",
    "        np.random.seed(seed)\n",
    "    c = \"SS\"\n",
    "    sentence = []\n",
    "    while True:\n",
    "        if c not in bigram:\n",
    "            break\n",
    "        words, probs = zip(*[(k, v) for k, v in bigram[c].items()])\n",
    "        idx = np.argmax(np.random.multinomial(1, probs, (1,)))\n",
    "        w = words[idx]\n",
    "        \n",
    "        if w == \"SE\":\n",
    "            break            \n",
    "        \n",
    "        w2 = w.split(\"/\")[0]\n",
    "        pos = w.split(\"/\")[1]\n",
    "        \n",
    "        if c == \"SS\":\n",
    "            sentence.append(w2.title())\n",
    "        elif c in [\"`\", \"\\\"\", \"'\", \"(\"]:\n",
    "            sentence.append(w2)\n",
    "        elif w2 in [\"'\", \".\", \",\", \")\", \":\", \";\", \"?\"]:\n",
    "            sentence.append(w2)\n",
    "        elif pos in [\"Josa\", \"Punctuation\", \"Suffix\"]:\n",
    "            sentence.append(w2)\n",
    "        elif w in [\"임/Noun\", \"것/Noun\", \"는걸/Noun\", \"릴때/Noun\",\n",
    "                   \"되다/Verb\", \"이다/Verb\", \"하다/Verb\", \"이다/Adjective\"]:\n",
    "            sentence.append(w2)\n",
    "        else:\n",
    "            sentence.append(\" \" + w2)\n",
    "        c = w\n",
    "        \n",
    "        if debug:\n",
    "            print(w)\n",
    "            \n",
    "    return \"\".join(sentence)"
   ]
  },
  {
   "cell_type": "code",
   "execution_count": null,
   "metadata": {
    "collapsed": true
   },
   "outputs": [],
   "source": []
  }
 ],
 "metadata": {
  "kernelspec": {
   "display_name": "python3.6",
   "language": "python",
   "name": "python3.6"
  },
  "language_info": {
   "codemirror_mode": {
    "name": "ipython",
    "version": 3
   },
   "file_extension": ".py",
   "mimetype": "text/x-python",
   "name": "python",
   "nbconvert_exporter": "python",
   "pygments_lexer": "ipython3",
   "version": "3.6.1"
  }
 },
 "nbformat": 4,
 "nbformat_minor": 2
}
