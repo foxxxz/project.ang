{
 "cells": [
  {
   "cell_type": "code",
   "execution_count": 1,
   "metadata": {},
   "outputs": [],
   "source": [
    "import numpy as np\n",
    "import pandas as pd\n",
    "import matplotlib.pylab as plt\n",
    "import matplotlib as mpl\n",
    "import seaborn as sns\n",
    "import scipy as sp\n",
    "from sklearn import metrics"
   ]
  },
  {
   "cell_type": "markdown",
   "metadata": {},
   "source": [
    "<br>\n",
    "#### Genetic Algorithm"
   ]
  },
  {
   "cell_type": "code",
   "execution_count": 2,
   "metadata": {},
   "outputs": [],
   "source": [
    "class genetic_algorithm:\n",
    "    def __init__(self):\n",
    "        pass\n",
    "    \n",
    "    def evaluate(self, x, metric='log10t'):\n",
    "        # convert to array\n",
    "        x = np.array(x)\n",
    "        if metric == 'log10t': # 참가자 소지금 min max 차이가 ln(10 thousand dollars) 일때 1\n",
    "            score = np.log(np.max(x) - np.min(x)) / np.log(100000)\n",
    "            return score\n",
    "    \n",
    "    def crossover(self, character0, character1):\n",
    "        gene0 = character0.genotype\n",
    "        gene1 = character1.genotype\n",
    "        \n",
    "        # locus 0,1 crossover\n",
    "        buff = gene0[[0,1]]\n",
    "        gene0[[0,1]] = gene1[[0,1]]\n",
    "        gene1[[0,1]] = buff\n",
    "        \n",
    "        # locus 5,6 crossover\n",
    "        buff = gene0[[5,6]]\n",
    "        gene0[[5,6]] = gene1[[5,6]]\n",
    "        gene1[[5,6]] = buff\n",
    "        \n",
    "        # locus 10,11 crossover\n",
    "        buff = gene0[[10,11]]\n",
    "        gene0[[10,11]] = gene1[[10,11]]\n",
    "        gene1[[10,11]] = buff\n",
    "        \n",
    "        return gene0, gene1\n",
    "    \n",
    "    def mutation(self, gene, rate=0.1):\n",
    "        rv = sp.stats.bernoulli(0.1)\n",
    "        mask = rv.rvs(10)\n",
    "        # mutate\n",
    "        for i in range(len(mask)):\n",
    "            if mask[i] == 1:\n",
    "                if gene[i] == 0:\n",
    "                    gene[i] = 1\n",
    "                elif gene[i] == 1:\n",
    "                    gene[i] = 0\n",
    "        return gene\n",
    "        \n",
    "        \n",
    "    def genetic_similarity(gene0, gene1):\n",
    "        if gene0.shape == gene1.shape:\n",
    "            length = len(gene0)\n",
    "            monitor = np.zeros(length)\n",
    "            monitor[gene0 == gene1] = 1\n",
    "            identical_num = np.sum(monitor)\n",
    "            return(identical_num / length)\n",
    "        \n",
    "    def phenotype_variance(generation):\n",
    "        var_imp = np.var(generation[:,0]) # 충동성 표현형 분산\n",
    "        var_str = np.var(generation[:,1]) # 스트레스 저항 표현형 분산\n",
    "        return(var_imp, var_str, var_imp + var_str)"
   ]
  },
  {
   "cell_type": "code",
   "execution_count": 3,
   "metadata": {},
   "outputs": [],
   "source": [
    "ga = genetic_algorithm()"
   ]
  },
  {
   "cell_type": "markdown",
   "metadata": {},
   "source": [
    "<br>\n",
    "#### Blackjack Game"
   ]
  },
  {
   "cell_type": "markdown",
   "metadata": {},
   "source": [
    "character"
   ]
  },
  {
   "cell_type": "markdown",
   "metadata": {},
   "source": [
    "1 +0.4  \n",
    "1 +0.3  \n",
    "1 +0.2  \n",
    "1 +0.1  \n",
    "1 *0.5  "
   ]
  },
  {
   "cell_type": "code",
   "execution_count": 4,
   "metadata": {},
   "outputs": [],
   "source": [
    "class character:\n",
    "    def __init__(self, pheno_noise=.1):\n",
    "        self.pheno_noise = pheno_noise\n",
    "        self.genotype = np.random.randint(low=0, high=2, size=15)\n",
    "        self.phenotype = self.represent_phenotype()\n",
    "        \n",
    "        \n",
    "    def represent_phenotype(self):\n",
    "        phenotype = {}\n",
    "        keys = ['impulsivity', 'stress_reg', 'thresh_hit_proba']\n",
    "        for key in keys:\n",
    "            if key == 'impulsivity': # decode impulsivity\n",
    "                pheno = self.genotype[0] * 0.4 + self.genotype[1] * 0.3 + self.genotype[2] * 0.2 + self.genotype[3] * 0.1\n",
    "                pheno -= pheno * self.genotype[4] * 0.5\n",
    "            elif key == 'stress_reg': # decode stress_reg\n",
    "                pheno = self.genotype[5] * 0.4 + self.genotype[6] * 0.3 + self.genotype[7] * 0.2 + self.genotype[8] * 0.1\n",
    "                pheno -= pheno * self.genotype[9] * 0.5\n",
    "            elif key == 'thresh_hit_proba':\n",
    "                pheno = self.genotype[10] * 0.4 + self.genotype[11] * 0.3 + self.genotype[12] * 0.2 + self.genotype[13] * 0.1\n",
    "                pheno -= pheno * self.genotype[14] * 0.5\n",
    "            pheno += np.random.normal(loc=0, scale=self.pheno_noise)\n",
    "            phenotype.update({key:pheno})\n",
    "                \n",
    "        return phenotype"
   ]
  },
  {
   "cell_type": "markdown",
   "metadata": {},
   "source": [
    "<br>\n",
    "#### blackjack 게임 세팅"
   ]
  },
  {
   "cell_type": "markdown",
   "metadata": {},
   "source": [
    "블랙잭 점수 계산"
   ]
  },
  {
   "cell_type": "code",
   "execution_count": 5,
   "metadata": {},
   "outputs": [],
   "source": [
    "def calc_score(card, minmax='min'):\n",
    "    score = 0\n",
    "    \n",
    "    if card[1] in ['K', 'Q', 'J']:\n",
    "        score = 10\n",
    "    elif card[1] == 'A':\n",
    "        if minmax == 'min':\n",
    "            score = 1\n",
    "        elif minmax == 'max':\n",
    "            score = 10\n",
    "    else:\n",
    "        score = int(card[1])\n",
    "    return score"
   ]
  },
  {
   "cell_type": "markdown",
   "metadata": {},
   "source": [
    "<br>\n",
    "정서 함수"
   ]
  },
  {
   "cell_type": "code",
   "execution_count": 6,
   "metadata": {},
   "outputs": [],
   "source": [
    "def calc_emotion(player, mode, pleasure_step=1):\n",
    "    if len(player.bet_path) != 1:\n",
    "        arousal = np.tanh((1 - player.character.phenotype['stress_reg']) * \n",
    "                          ((player.bet_path[-1] - player.bet_path[-2]) / float(player.bet_path[-2])))\n",
    "    elif len(player.bet_path) == 1:\n",
    "        arousal = np.tanh((1 - player.character.phenotype['stress_reg']))\n",
    "    \n",
    "    if mode == 'win':\n",
    "        pleasure = np.tanh((1 - player.character.phenotype['stress_reg']) * np.e ** (player.bet / player.budget))\n",
    "    elif mode == 'lose':\n",
    "        if player.budget > 0:\n",
    "            pleasure = - np.tanh((1 - player.character.phenotype['stress_reg']) * np.e ** (player.bet / player.budget))\n",
    "        else:\n",
    "            pleasure = - np.tanh((1 - player.character.phenotype['stress_reg']) * np.e)\n",
    "    \n",
    "    return arousal, pleasure"
   ]
  },
  {
   "cell_type": "markdown",
   "metadata": {},
   "source": [
    "<br>\n",
    "배팅 금액 함수"
   ]
  },
  {
   "cell_type": "code",
   "execution_count": 7,
   "metadata": {},
   "outputs": [],
   "source": [
    "def calc_bet(player):\n",
    "    bet = player.bet + (player.bet * np.e ** (player.arousal + player.character.phenotype['impulsivity']) * player.pleasure)\n",
    "    return round(bet)"
   ]
  },
  {
   "cell_type": "markdown",
   "metadata": {},
   "source": [
    "<br>\n",
    "플레이어 세팅"
   ]
  },
  {
   "cell_type": "code",
   "execution_count": 81,
   "metadata": {},
   "outputs": [],
   "source": [
    "class player:\n",
    "    def __init__(self, character, budget, bet):\n",
    "        self.budget = budget # 소지금\n",
    "        self.bet = bet # 베팅 금액\n",
    "        self.character = character\n",
    "        \n",
    "        # emotion\n",
    "        self.arousal = 0\n",
    "        self.pleasure = 0\n",
    "        \n",
    "        # game values\n",
    "        self.card = []\n",
    "        self.min_score = 0\n",
    "        self.max_score = 0\n",
    "        \n",
    "        # status\n",
    "        self.status = 'ongame'\n",
    "        \n",
    "        # thresh_hit_proba(player가 stay할 때 질 확률, 커질 수록 보수적인 hit: 반드시 질 것 같을 때만 hit)\n",
    "        self.thresh_hit_proba = self.character.phenotype['thresh_hit_proba']\n",
    "        \n",
    "        # winlose\n",
    "        self.game_result = ''\n",
    "        \n",
    "        # log\n",
    "        self.budget_path = [self.budget]\n",
    "        self.bet_path = [self.bet]\n",
    "        self.arousal_path = [self.arousal]\n",
    "        self.pleasure_path = [self.pleasure]\n",
    "        self.thresh_hit_proba_path = [self.thresh_hit_proba]\n",
    "        \n",
    "    def betting(self):\n",
    "        return self.bet\n",
    "    \n",
    "    def evaluate(self, visible_dealer_score):\n",
    "        if visible_dealer_score != 7:\n",
    "            dealer_score_range = np.arange(17, visible_dealer_score + 10) # 딜러의 hidden card가 open될 때 가능한 score 범위\n",
    "            dealer_safe_range = dealer_score_range[dealer_score_range <= 21] # 딜러가 21 이하의 수가 나올 범위\n",
    "            dealer_burst_range = dealer_score_range[dealer_score_range > 21] # 딜러가 burst될 범위\n",
    "            proba_dealer_burst = len(dealer_burst_range) / float(len(dealer_score_range)) # dealer가 burst 되어 stay해도 이길 확률\n",
    "        else:\n",
    "            proba_dealer_burst = 0\n",
    "        if self.status == 'burst':\n",
    "            return self.stay()\n",
    "        elif self.status == 'blackjack':\n",
    "            return self.stay()\n",
    "        elif self.status == 'ongame':\n",
    "            if self.max_score <= 11: # 최대 스코어가 11이하면 burst 위험 없으므로 무조건 hit\n",
    "                return self.hit()\n",
    "            else:\n",
    "                player_score_range = np.arange(self.min_score + 1, self.min_score + 10) # player가 hit 했을때 가능한 score 범위\n",
    "                player_safe_range = player_score_range[player_score_range <= 21] # hit 했을 때 player가 21이하일 범위\n",
    "                player_burst_range = player_score_range[player_score_range > 21] # hit 했을 때 player가 burst될 범위\n",
    "                proba_player_burst = len(player_burst_range) / float(len(player_score_range)) # player가 burst되어 hit하면 질 확률\n",
    "                \n",
    "                # stay 했을 때 질 확률\n",
    "                if self.min_score <= 16:\n",
    "                    proba_stay_lose = (1 - proba_dealer_burst)\n",
    "                elif self.min_score >= 17:\n",
    "                    proba_stay_lose = (1 - proba_dealer_burst) * ((21 - self.min_score) / 5.0)\n",
    "                \n",
    "                # hit/ stay 선택\n",
    "                if proba_stay_lose >= self.thresh_hit_proba:\n",
    "                    return self.hit()\n",
    "                else:\n",
    "                    return self.stay()\n",
    "    \n",
    "    def hit(self):\n",
    "        return 'hit'\n",
    "    \n",
    "    def stay(self):\n",
    "        return 'stay'\n",
    "    \n",
    "    def update_score(self):\n",
    "        self.min_score = np.sum(np.array([calc_score(x, minmax='min') for x in self.card]))\n",
    "        self.max_score = np.sum(np.array([calc_score(x, minmax='max') for x in self.card]))\n",
    "        if (self.min_score == 21) | (self.max_score == 21):\n",
    "            self.status = 'blackjack'\n",
    "        elif self.min_score > 21:\n",
    "            self.status = 'burst'\n",
    "    \n",
    "    def winlose(self):\n",
    "        if self.game_result == 'win':\n",
    "            # 승패에 따라 hit proba 조정, 이기면 공격적인 hit\n",
    "            self.thresh_hit_proba -= (self.bet / self.budget) * self.thresh_hit_proba * \\\n",
    "                                     (0.5 + self.character.phenotype['impulsivity'])\n",
    "            if self.status == 'blackjack':\n",
    "                self.budget += (self.bet) * 1.5\n",
    "            else:\n",
    "                self.budget += self.bet\n",
    "            self.arousal, self.pleasure = calc_emotion(self, 'win')\n",
    "        elif self.game_result == 'lose':\n",
    "            # 승패에 따라 hit proba 조정, 지면 보수적인 hit\n",
    "            self.thresh_hit_proba += (self.bet / self.budget) * self.thresh_hit_proba * \\\n",
    "                                     (0.5 + self.character.phenotype['impulsivity'])            \n",
    "            self.budget -= self.bet\n",
    "            # 0보다 작은 budget 0으로 보정\n",
    "            if self.budget < 0:\n",
    "                self.budget = 0\n",
    "            \n",
    "            self.arousal, self.pleasure = calc_emotion(self, 'lose')\n",
    "        elif self.game_result == 'even':\n",
    "            pass\n",
    "\n",
    "        self.bet = calc_bet(self)\n",
    "        if self.bet > self.budget:\n",
    "            self.bet = self.budget\n",
    "        self.bet_path.append(self.bet)\n",
    "        self.budget_path.append(self.budget)\n",
    "        self.arousal_path.append(self.arousal)\n",
    "        self.pleasure_path.append(self.pleasure)\n",
    "        self.thresh_hit_proba_path.append(self.thresh_hit_proba)"
   ]
  },
  {
   "cell_type": "markdown",
   "metadata": {},
   "source": [
    "<br>\n",
    "딜러 세팅"
   ]
  },
  {
   "cell_type": "code",
   "execution_count": 82,
   "metadata": {},
   "outputs": [],
   "source": [
    "class dealer:\n",
    "    def __init__(self):\n",
    "        # game values\n",
    "        self.card = []\n",
    "        self.score = 0\n",
    "        self.hidden_card = []\n",
    "        self.visible_card = []\n",
    "        \n",
    "        # status\n",
    "        self.status = 'ongame'\n",
    "    \n",
    "    def update_score(self):\n",
    "        self.hidden_card = self.card[-1] # 딜러가 받은 마지막 장은 hidden\n",
    "        self.visible_card = self.card[:-1] # 나머지는 open\n",
    "        self.score = np.sum(np.array([calc_score(x, minmax='min') for x in self.card])) # dealer의 합계 점수\n",
    "        self.visible_score = np.sum(np.array([calc_score(x, minmax='min') for x in self.visible_card])) # player에게 보여지는 점수\n",
    "        if self.score == 21:\n",
    "            self.status = 'blackjack'\n",
    "        elif self.score > 21:\n",
    "            self.status = 'burst'"
   ]
  },
  {
   "cell_type": "markdown",
   "metadata": {},
   "source": [
    "<br>\n",
    "게임 세팅"
   ]
  },
  {
   "cell_type": "code",
   "execution_count": 83,
   "metadata": {},
   "outputs": [],
   "source": [
    "class blackjack:\n",
    "    def __init__(self, dealer, player, card):\n",
    "        self.dealer = dealer\n",
    "        self.player = player\n",
    "        self.card = card\n",
    "        self.player_score_path = []\n",
    "        self.player_card_path = []\n",
    "        self.dealer_score_path = []\n",
    "        self.dealer_card_path = []\n",
    "        self.game_result_path = []\n",
    "    \n",
    "    def set_bet_money(self, money):\n",
    "        self.money = money\n",
    "\n",
    "    def pick_card(self):\n",
    "        if len(self.card) != 0:\n",
    "            pass\n",
    "        else:\n",
    "            mark = ['H', 'C', 'S', 'D']\n",
    "            number = ['A', '2', '3', '4', '5', '6', '7', '8', '9', '10', 'J', 'Q', 'K']\n",
    "            self.card = [(i, j) for i in mark for j in number]\n",
    "        return self.card[np.random.randint(0, len(self.card))]\n",
    "    \n",
    "    def draw(self):\n",
    "        \n",
    "        # dealer\n",
    "        while (self.dealer.score < 17):\n",
    "            pick = self.pick_card()\n",
    "            self.card.remove(pick)\n",
    "            self.dealer.card.append(pick)\n",
    "            self.dealer.update_score()\n",
    "        \n",
    "        # player\n",
    "        for i in range(2):\n",
    "            pick = self.pick_card()\n",
    "            self.card.remove(pick)\n",
    "            self.player.card.append(pick)\n",
    "            self.player.update_score()\n",
    "    \n",
    "    def hit(self):\n",
    "        pick = self.pick_card()\n",
    "        self.card.remove(pick)\n",
    "        self.player.card.append(pick)\n",
    "        self.player.update_score()"
   ]
  },
  {
   "cell_type": "markdown",
   "metadata": {},
   "source": [
    "<br>\n",
    "게임 플레이"
   ]
  },
  {
   "cell_type": "code",
   "execution_count": 84,
   "metadata": {},
   "outputs": [],
   "source": [
    "def single_game(game):\n",
    "    game.player.card = []\n",
    "    game.player.score = 0\n",
    "    game.player.status = 'ongame'\n",
    "    game.dealer.card = []\n",
    "    game.dealer.score = 0\n",
    "    game.dealer.status = 'ongame'\n",
    "    \n",
    "    game.draw()\n",
    "    while(game.player.evaluate(game.dealer.visible_score) != 'stay'):\n",
    "        game.hit()\n",
    "    \n",
    "    # player의 유효 점수 계산 (21 넘지 않는 가장 큰 수)\n",
    "    if game.player.max_score > 21:\n",
    "        valid_score = game.player.min_score\n",
    "    else:\n",
    "        valid_score = game.player.max_score\n",
    "        \n",
    "    # 승/패 판정\n",
    "    if game.player.status == 'burst': # player가 burst면 무조건 패배\n",
    "        game.player.game_result = 'lose'\n",
    "    else:\n",
    "        if game.dealer.status == 'burst': # dealer가 burst면 무조건 승리\n",
    "            game.player.game_result = 'win'\n",
    "        elif valid_score > game.dealer.score: \n",
    "            game.player.game_result = 'win'\n",
    "        elif valid_score < game.dealer.score:\n",
    "            game.player.game_result = 'lose'\n",
    "        elif valid_score == game.dealer.score:\n",
    "            game.player.game_result = 'even'\n",
    "    \n",
    "    # 결과 반영\n",
    "    game.player.winlose()\n",
    "    \n",
    "    # 결과 기록\n",
    "    game.player_score_path.append(valid_score)\n",
    "    game.player_card_path.append(game.player.card)\n",
    "    game.dealer_score_path.append(game.dealer.score)\n",
    "    game.dealer_card_path.append(game.dealer.card)\n",
    "    game.game_result_path.append(game.player.game_result)"
   ]
  },
  {
   "cell_type": "code",
   "execution_count": 85,
   "metadata": {},
   "outputs": [],
   "source": [
    "def simulator(game, MAX_ROUND=500):\n",
    "    cnt = 0\n",
    "    while ((cnt < MAX_ROUND) & (game.player.budget > 0) & (game.player.bet > 0)) | (game.player.budget >= 100000):\n",
    "        single_game(game)\n",
    "        cnt += 1"
   ]
  },
  {
   "cell_type": "code",
   "execution_count": 86,
   "metadata": {},
   "outputs": [],
   "source": [
    "def single_generation(bj_games):\n",
    "    for x in bj_games:\n",
    "        simulator(x)\n",
    "    return bj_games"
   ]
  },
  {
   "cell_type": "code",
   "execution_count": 87,
   "metadata": {},
   "outputs": [],
   "source": [
    "def select_survivals(bj_games, how, proba_norm=0, rank_norm=.5):\n",
    "    survival_proba = [ga.evaluate(x.player.budget_path) for x in bj_games]\n",
    "    for i in range(len(survival_proba)):\n",
    "        if survival_proba[i] > 1:\n",
    "            survival_proba[i] = 1\n",
    "    if how == 'proba':\n",
    "        temp = pd.DataFrame(survival_proba, columns=['proba'])\n",
    "        temp['select_mask'] = [np.random.choice([False, True], size=1, p=[1-x, x])[0] for x in survival_proba]\n",
    "        temp.select_mask[temp.proba < proba_norm] = False\n",
    "        select_mask = temp.select_mask.values\n",
    "    elif how == 'rank':\n",
    "        temp = pd.DataFrame(survival_proba, columns=['proba'])\n",
    "        select_mask = temp.sort_values(by='proba', ascending=False).index.values[:round(len(temp) * rank_norm)]\n",
    "    survivals = bj_games[select_mask]\n",
    "    return survival_proba, survivals"
   ]
  },
  {
   "cell_type": "code",
   "execution_count": 88,
   "metadata": {},
   "outputs": [],
   "source": [
    "def next_generation(survivals, mate_round=1, max_pop=200):\n",
    "    next_genotype = []\n",
    "    for mate in range(mate_round):\n",
    "        np.random.shuffle(survivals)\n",
    "        for i in range(len(survivals) - 1):\n",
    "            siblings = ga.crossover(survivals[i].player.character, survivals[i+1].player.character)\n",
    "            next_genotype += list(siblings)\n",
    "    next_genotype = np.array([ga.mutation(x) for x in next_genotype])\n",
    "    if len(next_genotype) > max_pop:\n",
    "        next_genotype = next_genotype[:200]\n",
    "    return next_genotype"
   ]
  },
  {
   "cell_type": "markdown",
   "metadata": {},
   "source": [
    "<br>\n",
    "실험 초기화"
   ]
  },
  {
   "cell_type": "code",
   "execution_count": 179,
   "metadata": {},
   "outputs": [],
   "source": [
    "game_path = []\n",
    "survial_proba_path = []\n",
    "survivals_path = []\n",
    "round_cnt_path = []\n",
    "\n",
    "# player 초기화\n",
    "players = np.array([player(budget=500, bet=10, character=character()) for i in range(100)])\n",
    "# 카드 초기값\n",
    "mark = ['H', 'C', 'S', 'D']\n",
    "number = ['A', '2', '3', '4', '5', '6', '7', '8', '9', '10', 'J', 'Q', 'K']\n",
    "card = [(i, j) for i in mark for j in number]\n",
    "bj_games = np.array([blackjack(dealer=dealer(), player=x, card=card) for x in players]) "
   ]
  },
  {
   "cell_type": "markdown",
   "metadata": {},
   "source": [
    "<br>\n",
    "세대 진행"
   ]
  },
  {
   "cell_type": "code",
   "execution_count": 180,
   "metadata": {
    "scrolled": true
   },
   "outputs": [
    {
     "name": "stderr",
     "output_type": "stream",
     "text": [
      "/home/ubuntu/anaconda3/lib/python3.6/site-packages/ipykernel_launcher.py:9: SettingWithCopyWarning: \n",
      "A value is trying to be set on a copy of a slice from a DataFrame\n",
      "\n",
      "See the caveats in the documentation: http://pandas.pydata.org/pandas-docs/stable/indexing.html#indexing-view-versus-copy\n",
      "  if __name__ == '__main__':\n"
     ]
    },
    {
     "name": "stdout",
     "output_type": "stream",
     "text": [
      "세대 수: 1  개체 수: 100  평균적합도: 0.288  생존: 17  round: 75.45\n",
      "세대 수: 2  개체 수: 96  평균적합도: 0.319  생존: 15  round: 100.375\n",
      "세대 수: 3  개체 수: 84  평균적합도: 0.302  생존: 18  round: 102.238\n",
      "세대 수: 4  개체 수: 102  평균적합도: 0.298  생존: 18  round: 134.147\n",
      "세대 수: 5  개체 수: 102  평균적합도: 0.294  생존: 21  round: 73.765\n",
      "세대 수: 6  개체 수: 120  평균적합도: 0.356  생존: 30  round: 186.475\n",
      "세대 수: 7  개체 수: 174  평균적합도: 0.302  생존: 41  round: 122.897\n",
      "세대 수: 8  개체 수: 240  평균적합도: 0.309  생존: 53  round: 118.071\n",
      "세대 수: 9  개체 수: 200  평균적합도: 0.311  생존: 36  round: 133.3\n",
      "세대 수: 10  개체 수: 210  평균적합도: 0.311  생존: 42  round: 116.671\n",
      "세대 수: 11  개체 수: 246  평균적합도: 0.299  생존: 48  round: 104.341\n",
      "세대 수: 12  개체 수: 282  평균적합도: 0.311  생존: 68  round: 131.113\n",
      "세대 수: 13  개체 수: 200  평균적합도: 0.289  생존: 43  round: 100.515\n",
      "세대 수: 14  개체 수: 252  평균적합도: 0.292  생존: 46  round: 79.754\n",
      "세대 수: 15  개체 수: 270  평균적합도: 0.304  생존: 62  round: 125.011\n",
      "세대 수: 16  개체 수: 200  평균적합도: 0.29  생존: 37  round: 80.08\n",
      "세대 수: 17  개체 수: 216  평균적합도: 0.307  생존: 44  round: 134.847\n",
      "세대 수: 18  개체 수: 258  평균적합도: 0.305  생존: 49  round: 124.167\n",
      "세대 수: 19  개체 수: 288  평균적합도: 0.31  생존: 61  round: 128.274\n",
      "세대 수: 20  개체 수: 200  평균적합도: 0.319  생존: 41  round: 127.085\n",
      "세대 수: 21  개체 수: 240  평균적합도: 0.3  생존: 46  round: 114.183\n",
      "세대 수: 22  개체 수: 270  평균적합도: 0.319  생존: 51  round: 125.393\n",
      "세대 수: 23  개체 수: 300  평균적합도: 0.301  생존: 53  round: 94.13\n",
      "세대 수: 24  개체 수: 200  평균적합도: 0.293  생존: 33  round: 114.875\n",
      "세대 수: 25  개체 수: 192  평균적합도: 0.311  생존: 39  round: 110.75\n",
      "세대 수: 26  개체 수: 228  평균적합도: 0.322  생존: 49  round: 123.93\n",
      "세대 수: 27  개체 수: 288  평균적합도: 0.29  생존: 60  round: 78.972\n",
      "세대 수: 28  개체 수: 200  평균적합도: 0.311  생존: 42  round: 125.37\n",
      "세대 수: 29  개체 수: 246  평균적합도: 0.308  생존: 50  round: 118.764\n",
      "세대 수: 30  개체 수: 294  평균적합도: 0.281  생존: 45  round: 99.201\n",
      "세대 수: 31  개체 수: 264  평균적합도: 0.29  생존: 51  round: 91.08\n",
      "세대 수: 32  개체 수: 300  평균적합도: 0.297  생존: 60  round: 105.897\n",
      "세대 수: 33  개체 수: 200  평균적합도: 0.303  생존: 49  round: 109.63\n",
      "세대 수: 34  개체 수: 288  평균적합도: 0.284  생존: 43  round: 81.34\n",
      "세대 수: 35  개체 수: 252  평균적합도: 0.293  생존: 44  round: 96.278\n",
      "세대 수: 36  개체 수: 258  평균적합도: 0.288  생존: 46  round: 77.143\n",
      "세대 수: 37  개체 수: 270  평균적합도: 0.299  생존: 55  round: 124.993\n",
      "세대 수: 38  개체 수: 200  평균적합도: 0.308  생존: 41  round: 139.555\n",
      "세대 수: 39  개체 수: 240  평균적합도: 0.283  생존: 31  round: 95.579\n",
      "세대 수: 40  개체 수: 180  평균적합도: 0.295  생존: 35  round: 94.383\n",
      "세대 수: 41  개체 수: 204  평균적합도: 0.307  생존: 41  round: 119.265\n",
      "세대 수: 42  개체 수: 240  평균적합도: 0.309  생존: 38  round: 114.975\n",
      "세대 수: 43  개체 수: 222  평균적합도: 0.287  생존: 39  round: 91.005\n",
      "세대 수: 44  개체 수: 228  평균적합도: 0.317  생존: 44  round: 141.654\n",
      "세대 수: 45  개체 수: 258  평균적합도: 0.325  생존: 65  round: 143.12\n",
      "세대 수: 46  개체 수: 200  평균적합도: 0.313  생존: 38  round: 139.255\n",
      "세대 수: 47  개체 수: 222  평균적합도: 0.305  생존: 35  round: 115.333\n",
      "세대 수: 48  개체 수: 204  평균적합도: 0.3  생존: 35  round: 85.255\n",
      "세대 수: 49  개체 수: 204  평균적합도: 0.324  생존: 43  round: 167.064\n",
      "세대 수: 50  개체 수: 252  평균적합도: 0.306  생존: 53  round: 106.817\n",
      "세대 수: 51  개체 수: 200  평균적합도: 0.3  생존: 35  round: 107.94\n",
      "세대 수: 52  개체 수: 204  평균적합도: 0.284  생존: 30  round: 80.294\n",
      "세대 수: 53  개체 수: 174  평균적합도: 0.302  생존: 32  round: 102.96\n",
      "세대 수: 54  개체 수: 186  평균적합도: 0.291  생존: 35  round: 98.468\n",
      "세대 수: 55  개체 수: 204  평균적합도: 0.299  생존: 41  round: 88.877\n",
      "세대 수: 56  개체 수: 240  평균적합도: 0.319  생존: 58  round: 138.638\n",
      "세대 수: 57  개체 수: 200  평균적합도: 0.307  생존: 40  round: 120.91\n",
      "세대 수: 58  개체 수: 234  평균적합도: 0.303  생존: 49  round: 119.504\n",
      "세대 수: 59  개체 수: 288  평균적합도: 0.307  생존: 58  round: 113.573\n",
      "세대 수: 60  개체 수: 200  평균적합도: 0.301  생존: 45  round: 140.45\n",
      "세대 수: 61  개체 수: 264  평균적합도: 0.293  생존: 64  round: 103.735\n",
      "세대 수: 62  개체 수: 200  평균적합도: 0.296  생존: 34  round: 90.865\n",
      "세대 수: 63  개체 수: 198  평균적합도: 0.303  생존: 41  round: 103.025\n",
      "세대 수: 64  개체 수: 240  평균적합도: 0.294  생존: 48  round: 94.496\n",
      "세대 수: 65  개체 수: 282  평균적합도: 0.282  생존: 48  round: 77.418\n",
      "세대 수: 66  개체 수: 282  평균적합도: 0.291  생존: 54  round: 85.624\n",
      "세대 수: 67  개체 수: 200  평균적합도: 0.289  생존: 41  round: 89.9\n",
      "세대 수: 68  개체 수: 240  평균적합도: 0.3  생존: 45  round: 100.292\n",
      "세대 수: 69  개체 수: 264  평균적합도: 0.303  생존: 66  round: 132.148\n",
      "세대 수: 70  개체 수: 200  평균적합도: 0.31  생존: 41  round: 140.63\n",
      "세대 수: 71  개체 수: 240  평균적합도: 0.309  생존: 55  round: 110.225\n",
      "세대 수: 72  개체 수: 200  평균적합도: 0.295  생존: 42  round: 104.91\n",
      "세대 수: 73  개체 수: 246  평균적합도: 0.306  생존: 48  round: 103.573\n",
      "세대 수: 74  개체 수: 282  평균적합도: 0.305  생존: 55  round: 122.032\n",
      "세대 수: 75  개체 수: 200  평균적합도: 0.296  생존: 42  round: 90.745\n",
      "세대 수: 76  개체 수: 246  평균적합도: 0.306  생존: 44  round: 114.256\n",
      "세대 수: 77  개체 수: 258  평균적합도: 0.283  생존: 45  round: 76.039\n",
      "세대 수: 78  개체 수: 264  평균적합도: 0.281  생존: 46  round: 62.015\n",
      "세대 수: 79  개체 수: 270  평균적합도: 0.295  생존: 50  round: 103.611\n",
      "세대 수: 80  개체 수: 294  평균적합도: 0.312  생존: 67  round: 134.639\n",
      "세대 수: 81  개체 수: 200  평균적합도: 0.282  생존: 32  round: 71.885\n",
      "세대 수: 82  개체 수: 186  평균적합도: 0.292  생존: 31  round: 74.409\n",
      "세대 수: 83  개체 수: 180  평균적합도: 0.277  생존: 36  round: 80.917\n",
      "세대 수: 84  개체 수: 210  평균적합도: 0.307  생존: 43  round: 119.005\n",
      "세대 수: 85  개체 수: 252  평균적합도: 0.31  생존: 52  round: 122.611\n",
      "세대 수: 86  개체 수: 200  평균적합도: 0.291  생존: 41  round: 101.61\n",
      "세대 수: 87  개체 수: 240  평균적합도: 0.297  생존: 44  round: 98.617\n",
      "세대 수: 88  개체 수: 258  평균적합도: 0.314  생존: 59  round: 145.671\n",
      "세대 수: 89  개체 수: 200  평균적합도: 0.293  생존: 37  round: 127.095\n",
      "세대 수: 90  개체 수: 216  평균적합도: 0.324  생존: 52  round: 169.333\n",
      "세대 수: 91  개체 수: 200  평균적합도: 0.308  생존: 39  round: 136.165\n",
      "세대 수: 92  개체 수: 228  평균적합도: 0.323  생존: 51  round: 148.145\n",
      "세대 수: 93  개체 수: 300  평균적합도: 0.3  생존: 46  round: 117.59\n",
      "세대 수: 94  개체 수: 270  평균적합도: 0.304  생존: 59  round: 117.852\n",
      "세대 수: 95  개체 수: 200  평균적합도: 0.288  생존: 32  round: 116.78\n",
      "세대 수: 96  개체 수: 186  평균적합도: 0.302  생존: 38  round: 101.726\n",
      "세대 수: 97  개체 수: 222  평균적합도: 0.299  생존: 44  round: 76.063\n",
      "세대 수: 98  개체 수: 258  평균적합도: 0.294  생존: 52  round: 110.961\n",
      "세대 수: 99  개체 수: 200  평균적합도: 0.323  생존: 49  round: 141.41\n",
      "세대 수: 100  개체 수: 288  평균적합도: 0.285  생존: 57  round: 81.319\n"
     ]
    }
   ],
   "source": [
    "for round_cnt in range(100):\n",
    "    game_path.append(single_generation(bj_games))\n",
    "    proba_temp, survivals = select_survivals(game_path[-1], how='proba', proba_norm=.25, rank_norm=.2)\n",
    "    survial_proba_path.append(proba_temp)\n",
    "    survivals_path.append(survivals)\n",
    "    round_cnt_path.append([len(x.game_result_path) for x in game_path[-1]])\n",
    "    # cross-over and mutate for next generation\n",
    "    next_genotype = next_generation(survivals, mate_round=3, max_pop=300)  \n",
    "    # player 초기화\n",
    "    players = np.array([player(budget=500, bet=10, character=character()) for i in range(len(next_genotype))])\n",
    "    # next_genotype 입력\n",
    "    for i in range(len(players)):\n",
    "        players[i].character.genotype = next_genotype[i]\n",
    "        players[i].character.phenotype = players[i].character.represent_phenotype()\n",
    "    # 카드 초기값\n",
    "    mark = ['H', 'C', 'S', 'D']\n",
    "    number = ['A', '2', '3', '4', '5', '6', '7', '8', '9', '10', 'J', 'Q', 'K']\n",
    "    card = [(i, j) for i in mark for j in number]\n",
    "    bj_games = np.array([blackjack(dealer=dealer(), player=x, card=card) for x in players]) \n",
    "    print('세대 수: {}  개체 수: {}  평균적합도: {}  생존: {}  round: {}'.format(len(game_path), len(game_path[-1]),\n",
    "                                                np.round(np.mean(survial_proba_path[-1]), 3), len(survivals_path[-1]),\n",
    "                                                np.round(np.mean(round_cnt_path[-1]), 3)))"
   ]
  },
  {
   "cell_type": "markdown",
   "metadata": {},
   "source": [
    "<br>\n",
    "log selection"
   ]
  },
  {
   "cell_type": "code",
   "execution_count": 181,
   "metadata": {},
   "outputs": [],
   "source": [
    "idx_i = []\n",
    "idx_j = []\n",
    "threshold = .6\n",
    "for i in range(len(survial_proba_path)):\n",
    "    for j in range(len(survial_proba_path[i])):\n",
    "        if survial_proba_path[i][j] >= threshold:\n",
    "            idx_i.append(i)\n",
    "            idx_j.append(j)"
   ]
  },
  {
   "cell_type": "code",
   "execution_count": 182,
   "metadata": {},
   "outputs": [
    {
     "data": {
      "text/plain": [
       "228"
      ]
     },
     "execution_count": 182,
     "metadata": {},
     "output_type": "execute_result"
    }
   ],
   "source": [
    "game_cand = []\n",
    "for i, j in zip(idx_i, idx_j):\n",
    "    game_cand.append(game_path[i][j])\n",
    "len(game_cand)"
   ]
  },
  {
   "cell_type": "markdown",
   "metadata": {},
   "source": [
    "<br>\n",
    "generate story"
   ]
  },
  {
   "cell_type": "code",
   "execution_count": 188,
   "metadata": {},
   "outputs": [],
   "source": [
    "def write_story(game):\n",
    "    for i in range(len(game.player.bet_path)-1):\n",
    "        print('{} 번째 게임'.format(i+1))\n",
    "        \n",
    "        if i == 0:\n",
    "            print('가진 돈은 500$')\n",
    "            print('우선 {}$를 베팅해본다'.format(game.player.bet_path[i]))\n",
    "        else:\n",
    "            if game.player.bet_path[i] > game.player.bet_path[i-1]:\n",
    "                adv = '베팅 금액을 올려서'\n",
    "            elif game.player.bet_path[i] < game.player.bet_path[i-1]:\n",
    "                adv = '베팅 금액을 내려서'\n",
    "            else:\n",
    "                adv = '이번에도'\n",
    "            if game.player.bet_path[i] == game.player.budget_path[i]:\n",
    "                print('{}$ 전부 걸어 보자!'.format(game.player.bet_path[i]))\n",
    "            else:\n",
    "                print('{} 현재 가진 돈 {}$ 중 {}$를 베팅한다'.format(adv, game.player.budget_path[i], game.player.bet_path[i]))\n",
    "        if i < len(game.player.bet_path)-1:\n",
    "            player_card_init = game.player_card_path[i][:2]\n",
    "            print('내가 받은 카드는 {}'.format([''.join(x for x in card) for card in player_card_init]))\n",
    "            player_score_init = np.sum(calc_score(x) for x in player_card_init)\n",
    "            print('{} 점'.format(player_score_init))\n",
    "            dealer_card_init = game.dealer_card_path[i][:-1]\n",
    "            print('딜러의 카드는 {}와 한장의 히든 카드'.format([''.join(x for x in card) for card in dealer_card_init]))\n",
    "            print('보이는 점수는 {} 점'.format(np.sum(calc_score(x) for x in dealer_card_init)))\n",
    "        if game.player.thresh_hit_proba_path[i] >= 0.7:\n",
    "            print(\"'STAY 하는게 안전할 것 같은데... ({})'\".format(round(game.player.thresh_hit_proba_path[i], 3)))\n",
    "        elif game.player.thresh_hit_proba_path[i] < 0.3:\n",
    "            print(\"'HIT 해도 괜찮을 것 같은데! ({})'\".format(round(game.player.thresh_hit_proba_path[i], 3)))       \n",
    "        \n",
    "        # Hit/ Stay log\n",
    "        if len(game.player_card_path[i]) == 2:\n",
    "            print('STAY!')\n",
    "        else:\n",
    "            for card in game.player_card_path[i][2:]:\n",
    "                print('HIT!')\n",
    "                print([''.join(x for x in card)])\n",
    "        \n",
    "        # result\n",
    "        print('player: {}'.format(game.player_card_path[i]))\n",
    "        print('{}'.format(game.player_score_path[i]))\n",
    "        print('dealer: {}'.format(game.dealer_card_path[i]))\n",
    "        print('{}'.format(game.dealer_score_path[i]))\n",
    "        if game.game_result_path[i] == 'win':\n",
    "            if game.player_score_path[i] == 21:\n",
    "                print('Blackjack!')\n",
    "            else:\n",
    "                print('이겼다!')\n",
    "        elif game.game_result_path[i] == 'even':\n",
    "            print('비겼다')\n",
    "        elif game.game_result_path[i] == 'lose':\n",
    "            print('졌다')\n",
    "            if game.player.budget_path[i+1] == 0:\n",
    "                print('가진 돈 전부를 잃었다...')\n",
    "        print('arousal:{}  pleasure{}'.format(round(game.player.arousal_path[i+1], 3),\n",
    "                                              round(game.player.pleasure_path[i+1], 3)))\n",
    "        \n",
    "        print('')"
   ]
  },
  {
   "cell_type": "code",
   "execution_count": 194,
   "metadata": {
    "scrolled": false
   },
   "outputs": [
    {
     "name": "stdout",
     "output_type": "stream",
     "text": [
      "1 번째 게임\n",
      "가진 돈은 500$\n",
      "우선 10$를 베팅해본다\n",
      "내가 받은 카드는 ['S7', 'HJ']\n",
      "17 점\n",
      "딜러의 카드는 ['DA', 'S2', 'HA', 'SA', 'CK']와 한장의 히든 카드\n",
      "보이는 점수는 15 점\n",
      "STAY!\n",
      "player: [('S', '7'), ('H', 'J')]\n",
      "17\n",
      "dealer: [('D', 'A'), ('S', '2'), ('H', 'A'), ('S', 'A'), ('C', 'K'), ('C', '7')]\n",
      "22\n",
      "이겼다!\n",
      "arousal:0.666  pleasure0.674\n",
      "\n",
      "2 번째 게임\n",
      "베팅 금액을 올려서 현재 가진 돈 510$ 중 34.0$를 베팅한다\n",
      "내가 받은 카드는 ['SJ', 'D9']\n",
      "19 점\n",
      "딜러의 카드는 ['H7']와 한장의 히든 카드\n",
      "보이는 점수는 7 점\n",
      "STAY!\n",
      "player: [('S', 'J'), ('D', '9')]\n",
      "19\n",
      "dealer: [('H', '7'), ('C', 'J')]\n",
      "17\n",
      "이겼다!\n",
      "arousal:0.958  pleasure0.693\n",
      "\n",
      "3 번째 게임\n",
      "베팅 금액을 올려서 현재 가진 돈 544.0$ 중 145.0$를 베팅한다\n",
      "내가 받은 카드는 ['HK', 'C3']\n",
      "13 점\n",
      "딜러의 카드는 ['D10']와 한장의 히든 카드\n",
      "보이는 점수는 10 점\n",
      "HIT!\n",
      "['H3']\n",
      "HIT!\n",
      "['D4']\n",
      "player: [('H', 'K'), ('C', '3'), ('H', '3'), ('D', '4')]\n",
      "20\n",
      "dealer: [('D', '10'), ('D', '8')]\n",
      "18\n",
      "이겼다!\n",
      "arousal:0.989  pleasure0.758\n",
      "\n",
      "4 번째 게임\n",
      "베팅 금액을 올려서 현재 가진 돈 689.0$ 중 678.0$를 베팅한다\n",
      "내가 받은 카드는 ['DQ', 'H2']\n",
      "12 점\n",
      "딜러의 카드는 ['CQ', 'C6']와 한장의 히든 카드\n",
      "보이는 점수는 16 점\n",
      "HIT!\n",
      "['S4']\n",
      "HIT!\n",
      "['S3']\n",
      "player: [('D', 'Q'), ('H', '2'), ('S', '4'), ('S', '3')]\n",
      "19\n",
      "dealer: [('C', 'Q'), ('C', '6'), ('H', '9')]\n",
      "25\n",
      "이겼다!\n",
      "arousal:0.995  pleasure0.866\n",
      "\n",
      "5 번째 게임\n",
      "1367.0$ 전부 걸어 보자!\n",
      "내가 받은 카드는 ['H8', 'D6']\n",
      "14 점\n",
      "딜러의 카드는 ['SQ']와 한장의 히든 카드\n",
      "보이는 점수는 10 점\n",
      "'HIT 해도 괜찮을 것 같은데! (-0.03)'\n",
      "HIT!\n",
      "['CA']\n",
      "HIT!\n",
      "['D5']\n",
      "HIT!\n",
      "['DK']\n",
      "player: [('H', '8'), ('D', '6'), ('C', 'A'), ('D', '5'), ('D', 'K')]\n",
      "30\n",
      "dealer: [('S', 'Q'), ('D', 'J')]\n",
      "20\n",
      "졌다\n",
      "가진 돈 전부를 잃었다...\n",
      "arousal:0.673  pleasure-0.975\n",
      "\n"
     ]
    }
   ],
   "source": [
    "write_story(game_cand[2])"
   ]
  },
  {
   "cell_type": "code",
   "execution_count": 183,
   "metadata": {},
   "outputs": [],
   "source": [
    "last_budget = [x.player.budget_path[-1] for x in game_cand]\n",
    "before_last_budget = [x.player.budget_path[-2] for x in game_cand]"
   ]
  },
  {
   "cell_type": "code",
   "execution_count": 187,
   "metadata": {},
   "outputs": [
    {
     "data": {
      "text/plain": [
       "105"
      ]
     },
     "execution_count": 187,
     "metadata": {},
     "output_type": "execute_result"
    }
   ],
   "source": [
    "np.argmax(last_budget)"
   ]
  },
  {
   "cell_type": "code",
   "execution_count": 186,
   "metadata": {},
   "outputs": [
    {
     "data": {
      "text/plain": [
       "2199.0"
      ]
     },
     "execution_count": 186,
     "metadata": {},
     "output_type": "execute_result"
    }
   ],
   "source": [
    "np.max(last_budget)"
   ]
  },
  {
   "cell_type": "code",
   "execution_count": null,
   "metadata": {},
   "outputs": [],
   "source": []
  },
  {
   "cell_type": "code",
   "execution_count": null,
   "metadata": {},
   "outputs": [],
   "source": []
  },
  {
   "cell_type": "code",
   "execution_count": null,
   "metadata": {},
   "outputs": [],
   "source": []
  },
  {
   "cell_type": "code",
   "execution_count": 505,
   "metadata": {
    "scrolled": true
   },
   "outputs": [
    {
     "data": {
      "text/plain": [
       "\"\\nplt.figure(figsize=(20,36))\\nidx = 0\\ncnt = 0\\nfor bj in game_path[0]:\\n    plt.subplot(12,5,idx+1); plt.barh([0,1], [bj.player.character.phenotype['impulsivity'],\\n                                              bj.player.character.phenotype['stress_reg']]);\\n    plt.yticks([12,1], ['impulsivity', 'stress_reg']); plt.xlim(0,1); plt.xlabel(cnt);\\n    plt.subplot(12,5,idx+2); plt.plot(bj.player.bet_path); plt.xlabel('bet (last){}'.format(bj.player.bet_path[-1]));\\n    plt.subplot(12,5,idx+3); plt.plot(bj.player.budget_path); plt.xlabel('budget'); plt.ylim(0, 7000);\\n    plt.subplot(12,5,idx+4); plt.plot(bj.player.arousal_path); plt.xlabel('arousal'); plt.ylim(-1, 1);\\n    plt.subplot(12,5,idx+5); plt.plot(bj.player.pleasure_path); plt.xlabel('pleasure'); plt.ylim(-1, 1);\\n    plt.tight_layout()\\n    idx += 5\\n    cnt += 1\\nplt.show()\\n\""
      ]
     },
     "execution_count": 505,
     "metadata": {},
     "output_type": "execute_result"
    }
   ],
   "source": [
    "'''\n",
    "plt.figure(figsize=(20,36))\n",
    "idx = 0\n",
    "cnt = 0\n",
    "for bj in game_path[0]:\n",
    "    plt.subplot(12,5,idx+1); plt.barh([0,1], [bj.player.character.phenotype['impulsivity'],\n",
    "                                              bj.player.character.phenotype['stress_reg']]);\n",
    "    plt.yticks([12,1], ['impulsivity', 'stress_reg']); plt.xlim(0,1); plt.xlabel(cnt);\n",
    "    plt.subplot(12,5,idx+2); plt.plot(bj.player.bet_path); plt.xlabel('bet (last){}'.format(bj.player.bet_path[-1]));\n",
    "    plt.subplot(12,5,idx+3); plt.plot(bj.player.budget_path); plt.xlabel('budget'); plt.ylim(0, 7000);\n",
    "    plt.subplot(12,5,idx+4); plt.plot(bj.player.arousal_path); plt.xlabel('arousal'); plt.ylim(-1, 1);\n",
    "    plt.subplot(12,5,idx+5); plt.plot(bj.player.pleasure_path); plt.xlabel('pleasure'); plt.ylim(-1, 1);\n",
    "    plt.tight_layout()\n",
    "    idx += 5\n",
    "    cnt += 1\n",
    "plt.show()\n",
    "'''"
   ]
  },
  {
   "cell_type": "code",
   "execution_count": null,
   "metadata": {},
   "outputs": [],
   "source": []
  }
 ],
 "metadata": {
  "kernelspec": {
   "display_name": "Python 3",
   "language": "python",
   "name": "python3"
  },
  "language_info": {
   "codemirror_mode": {
    "name": "ipython",
    "version": 3
   },
   "file_extension": ".py",
   "mimetype": "text/x-python",
   "name": "python",
   "nbconvert_exporter": "python",
   "pygments_lexer": "ipython3",
   "version": "3.6.4"
  }
 },
 "nbformat": 4,
 "nbformat_minor": 2
}
