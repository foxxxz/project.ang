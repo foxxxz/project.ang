{
 "cells": [
  {
   "cell_type": "markdown",
   "metadata": {},
   "source": [
    "# 3개 숫자를 골라서(중복가능) 합이 20이 되는 조합찾기"
   ]
  },
  {
   "cell_type": "code",
   "execution_count": 1,
   "metadata": {
    "collapsed": true
   },
   "outputs": [],
   "source": [
    "import numpy as np"
   ]
  },
  {
   "cell_type": "code",
   "execution_count": 2,
   "metadata": {
    "collapsed": true
   },
   "outputs": [],
   "source": [
    "import matplotlib.pylab as plt"
   ]
  },
  {
   "cell_type": "code",
   "execution_count": 3,
   "metadata": {},
   "outputs": [
    {
     "name": "stderr",
     "output_type": "stream",
     "text": [
      "C:\\Anaconda2\\envs\\py36\\lib\\site-packages\\IPython\\html.py:14: ShimWarning: The `IPython.html` package has been deprecated since IPython 4.0. You should import from `notebook` instead. `IPython.html.widgets` has moved to `ipywidgets`.\n",
      "  \"`IPython.html.widgets` has moved to `ipywidgets`.\", ShimWarning)\n"
     ]
    }
   ],
   "source": [
    "import seaborn as sns"
   ]
  },
  {
   "cell_type": "code",
   "execution_count": 45,
   "metadata": {
    "collapsed": true
   },
   "outputs": [],
   "source": [
    "# 점수\n",
    "def evaluation(x):\n",
    "    return abs(15 - np.sum(x, 1))\n",
    "# 점수를 정규화하여 선택 확률로 놓고 랜덤하게 리턴\n",
    "\n",
    "def prob(x):\n",
    "    return (1 / evaluation(x)) / sum(1 / evaluation(x))\n",
    "\n",
    "def choose(x):\n",
    "    return x[np.random.choice(range(len(x)), 2, p=prob(x))]\n",
    "\n",
    "def cross(x):\n",
    "    idx = np.random.choice([0, 1], (5, 3))\n",
    "    return np.concatenate((x[[0]] * idx + x[[1]] * ((idx + 1) % 2), x[[1]] * idx + x[[0]] * ((idx + 1) % 2)), axis=0)\n",
    "\n",
    "def mutation(x):\n",
    "    x[:, 2] = np.random.choice(pool, len(x[:, 2]))\n",
    "    return x\n",
    "\n",
    "def gen(x):\n",
    "    return choose(mutation(cross(choose(x))))"
   ]
  },
  {
   "cell_type": "code",
   "execution_count": 46,
   "metadata": {
    "collapsed": true
   },
   "outputs": [],
   "source": [
    "pool = [1, 5, 6, 8, 3, 7, 3, 5, 9, 0]\n",
    "a = np.random.choice(pool, (10, 3))"
   ]
  },
  {
   "cell_type": "code",
   "execution_count": 47,
   "metadata": {},
   "outputs": [
    {
     "data": {
      "text/plain": [
       "array([[3, 0, 9],\n",
       "       [3, 3, 8],\n",
       "       [5, 6, 3],\n",
       "       [9, 0, 9],\n",
       "       [5, 3, 1],\n",
       "       [3, 3, 5],\n",
       "       [1, 6, 6],\n",
       "       [0, 6, 7],\n",
       "       [7, 6, 7],\n",
       "       [6, 5, 5]])"
      ]
     },
     "execution_count": 47,
     "metadata": {},
     "output_type": "execute_result"
    }
   ],
   "source": [
    "a"
   ]
  },
  {
   "cell_type": "code",
   "execution_count": 53,
   "metadata": {},
   "outputs": [
    {
     "name": "stdout",
     "output_type": "stream",
     "text": [
      "0\n",
      "[[5 3 7]\n",
      " [5 3 7]]\n"
     ]
    }
   ],
   "source": [
    "i = 0\n",
    "while (evaluation(a1)[0] !=0) & (i < 200):\n",
    "    if i == 0:\n",
    "        a1 = gen(a)\n",
    "    else:\n",
    "        a1 = gen(a1)\n",
    "    i += 1\n",
    "    \n",
    "print(i)\n",
    "print(a1)\n",
    "#evaluation(a1)"
   ]
  },
  {
   "cell_type": "code",
   "execution_count": null,
   "metadata": {
    "collapsed": true
   },
   "outputs": [],
   "source": []
  }
 ],
 "metadata": {
  "kernelspec": {
   "display_name": "Python 3",
   "language": "python",
   "name": "python3"
  },
  "language_info": {
   "codemirror_mode": {
    "name": "ipython",
    "version": 3
   },
   "file_extension": ".py",
   "mimetype": "text/x-python",
   "name": "python",
   "nbconvert_exporter": "python",
   "pygments_lexer": "ipython3",
   "version": "3.6.4"
  }
 },
 "nbformat": 4,
 "nbformat_minor": 2
}
